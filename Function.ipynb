{
  "nbformat": 4,
  "nbformat_minor": 0,
  "metadata": {
    "colab": {
      "name": "Function.ipynb",
      "provenance": [],
      "collapsed_sections": [],
      "authorship_tag": "ABX9TyNuoO82eVCISOOp2aOnk9RZ",
      "include_colab_link": true
    },
    "kernelspec": {
      "name": "python3",
      "display_name": "Python 3"
    }
  },
  "cells": [
    {
      "cell_type": "markdown",
      "metadata": {
        "id": "view-in-github",
        "colab_type": "text"
      },
      "source": [
        "<a href=\"https://colab.research.google.com/github/creativmind/python/blob/master/Function.ipynb\" target=\"_parent\"><img src=\"https://colab.research.google.com/assets/colab-badge.svg\" alt=\"Open In Colab\"/></a>"
      ]
    },
    {
      "cell_type": "markdown",
      "metadata": {
        "id": "ZJXCmuykvw1M",
        "colab_type": "text"
      },
      "source": [
        "##Function:\n",
        "Functions in Python provide organized, reusable and modular code to perform a set of speciﬁc actions. Functions simplify the coding process, prevent redundant logic, and make the code easier to follow."
      ]
    },
    {
      "cell_type": "code",
      "metadata": {
        "id": "eQqpxs_evI_9",
        "colab_type": "code",
        "colab": {
          "base_uri": "https://localhost:8080/",
          "height": 35
        },
        "outputId": "1cda0c91-6464-430a-be07-9f8fc2184669"
      },
      "source": [
        "def greet_two(greeting=\"Howdy\"):     \n",
        "  return greeting\n",
        "greet_two()"
      ],
      "execution_count": null,
      "outputs": [
        {
          "output_type": "execute_result",
          "data": {
            "application/vnd.google.colaboratory.intrinsic+json": {
              "type": "string"
            },
            "text/plain": [
              "'Howdy'"
            ]
          },
          "metadata": {
            "tags": []
          },
          "execution_count": 3
        }
      ]
    },
    {
      "cell_type": "code",
      "metadata": {
        "id": "PHcWz6SawfD7",
        "colab_type": "code",
        "colab": {
          "base_uri": "https://localhost:8080/",
          "height": 35
        },
        "outputId": "973c4cf2-9ae2-4c53-c955-6b048f31461b"
      },
      "source": [
        "def greet_two(greeting):     #typ1: function with argument\n",
        "  return greeting\n",
        "greet_two(\"Howdy\")           # typ2: greet_two(greeting = \"Howdy\") "
      ],
      "execution_count": null,
      "outputs": [
        {
          "output_type": "execute_result",
          "data": {
            "application/vnd.google.colaboratory.intrinsic+json": {
              "type": "string"
            },
            "text/plain": [
              "'Howdy'"
            ]
          },
          "metadata": {
            "tags": []
          },
          "execution_count": 7
        }
      ]
    },
    {
      "cell_type": "code",
      "metadata": {
        "id": "WaMft7i9vXvh",
        "colab_type": "code",
        "colab": {
          "base_uri": "https://localhost:8080/",
          "height": 35
        },
        "outputId": "4a8028e1-282b-4ebf-f633-0367874723fb"
      },
      "source": [
        "def do_nothing():                    # an empty function uses pass as statement because function body cant be empty\n",
        "  pass\n",
        "print(do_nothing())                  # empty function"
      ],
      "execution_count": null,
      "outputs": [
        {
          "output_type": "stream",
          "text": [
            "None\n"
          ],
          "name": "stdout"
        }
      ]
    },
    {
      "cell_type": "markdown",
      "metadata": {
        "id": "i3h1YTndx3eR",
        "colab_type": "text"
      },
      "source": [
        "## Deﬁning a function with an arbitrary number of arguments\n",
        " \n",
        " *args takes n number of arguments (*args Unnamed positional argument)"
      ]
    },
    {
      "cell_type": "code",
      "metadata": {
        "id": "7V7XyNInwCqQ",
        "colab_type": "code",
        "colab": {
          "base_uri": "https://localhost:8080/",
          "height": 121
        },
        "outputId": "d6423464-9d1b-4eaa-f97e-d6ed1aa20e84"
      },
      "source": [
        "#syntax to iterate tuples: def list_iteration(*args):\n",
        "\n",
        "\n",
        "def tup_iteration(*args):  #syntax: def tup_iteration(*args):--->func declaration\n",
        "  for i in args:        #-------------->func definition\n",
        "    print(i)  \n",
        "\n",
        "tup = (1,2,3,4,5,\"l\")\n",
        "tup_iteration(*tup)    # calling a function over tuple ---->fuction call\n"
      ],
      "execution_count": null,
      "outputs": [
        {
          "output_type": "stream",
          "text": [
            "1\n",
            "2\n",
            "3\n",
            "4\n",
            "5\n",
            "l\n"
          ],
          "name": "stdout"
        }
      ]
    },
    {
      "cell_type": "code",
      "metadata": {
        "id": "gsD-z67T03Pl",
        "colab_type": "code",
        "colab": {
          "base_uri": "https://localhost:8080/",
          "height": 121
        },
        "outputId": "50aeafaa-0886-4d68-d195-03e4dae1bc79"
      },
      "source": [
        "def lst_iteration(*args):  #syntax: def list_iteration(*args): func declaration\n",
        "   for i in args:\n",
        "     print(i)              #-------------->func definition\n",
        "\n",
        "lst = [1,2,3,4,5,\"l\"]\n",
        "lst_iteration(*lst)        #funct call"
      ],
      "execution_count": null,
      "outputs": [
        {
          "output_type": "stream",
          "text": [
            "1\n",
            "2\n",
            "3\n",
            "4\n",
            "5\n",
            "l\n"
          ],
          "name": "stdout"
        }
      ]
    },
    {
      "cell_type": "code",
      "metadata": {
        "id": "znlP_v0t2zCC",
        "colab_type": "code",
        "colab": {
          "base_uri": "https://localhost:8080/",
          "height": 35
        },
        "outputId": "0ddb5458-1ba6-497b-93b4-5433e8c0a81d"
      },
      "source": [
        "#difference : lst_iteration(*lst)\n",
        "lst_iteration(lst)"
      ],
      "execution_count": null,
      "outputs": [
        {
          "output_type": "stream",
          "text": [
            "[1, 2, 3, 4, 5, 'l']\n"
          ],
          "name": "stdout"
        }
      ]
    },
    {
      "cell_type": "code",
      "metadata": {
        "id": "N8yrBMrx3Al9",
        "colab_type": "code",
        "colab": {
          "base_uri": "https://localhost:8080/",
          "height": 52
        },
        "outputId": "77c15216-7186-4e84-80fb-bb0a6e97f6d4"
      },
      "source": [
        "# iterating dictionary using **kwargs---keyword as an argument--->should have key and values\n",
        "\n",
        "#You can take an arbitrary number of arguments with a NAME by deﬁning an argument in the\n",
        "#deﬁnition with two * in front of it:\n",
        "#9952949062 / 62865080\n",
        "\n",
        "def dic_iterator(**kwargs):\n",
        "  for name, value in kwargs.items():\n",
        "    print(name)\n",
        "\n",
        "dic = {'foo': 1, 'bar': 2}\n",
        "dic_iterator(**dic)"
      ],
      "execution_count": null,
      "outputs": [
        {
          "output_type": "stream",
          "text": [
            "foo\n",
            "bar\n"
          ],
          "name": "stdout"
        }
      ]
    },
    {
      "cell_type": "markdown",
      "metadata": {
        "id": "5qk3rL3LBy-5",
        "colab_type": "text"
      },
      "source": [
        "## LAMBDA FUNCTIONS\n",
        "\n",
        "Lambda function is an inline anonymous function.\n",
        "\n",
        "It takes multiple arguments but has only one expression\n",
        "\n",
        "It is more useful when used inside a function that accepts an argument and perform actions with anonymous value during the execution based on user need\n",
        "\n"
      ]
    },
    {
      "cell_type": "code",
      "metadata": {
        "id": "QQhbidNngWGY",
        "colab_type": "code",
        "colab": {
          "base_uri": "https://localhost:8080/",
          "height": 35
        },
        "outputId": "d7e1dd2e-e743-4ab9-e201-cdd237c6f89e"
      },
      "source": [
        "#type 1\n",
        "c = lambda a:a*a\n",
        "c(4) "
      ],
      "execution_count": null,
      "outputs": [
        {
          "output_type": "execute_result",
          "data": {
            "text/plain": [
              "16"
            ]
          },
          "metadata": {
            "tags": []
          },
          "execution_count": 7
        }
      ]
    },
    {
      "cell_type": "code",
      "metadata": {
        "id": "o0INPOlEgZHi",
        "colab_type": "code",
        "colab": {
          "base_uri": "https://localhost:8080/",
          "height": 35
        },
        "outputId": "54faaab9-757e-46c5-fdad-1035a9fe51c7"
      },
      "source": [
        "#type 2 within a function\n",
        "def myfunc(n):\n",
        "  return lambda a:a*n\n",
        "result = myfunc(4)\n",
        "result(5)"
      ],
      "execution_count": null,
      "outputs": [
        {
          "output_type": "execute_result",
          "data": {
            "text/plain": [
              "20"
            ]
          },
          "metadata": {
            "tags": []
          },
          "execution_count": 8
        }
      ]
    },
    {
      "cell_type": "code",
      "metadata": {
        "id": "n2B1kqQjYyrf",
        "colab_type": "code",
        "colab": {
          "base_uri": "https://localhost:8080/",
          "height": 35
        },
        "outputId": "c9162eeb-fca9-4af7-ce82-8e769b334efe"
      },
      "source": [
        "#multiple arguments\n",
        "greeting = lambda x, *args, **kwargs: print(x, args, kwargs) \n",
        "greeting('hello', 'world', world='world')"
      ],
      "execution_count": null,
      "outputs": [
        {
          "output_type": "stream",
          "text": [
            "hello ('world',) {'world': 'world'}\n"
          ],
          "name": "stdout"
        }
      ]
    },
    {
      "cell_type": "code",
      "metadata": {
        "id": "HBZWM5BiipaY",
        "colab_type": "code",
        "colab": {
          "base_uri": "https://localhost:8080/",
          "height": 35
        },
        "outputId": "bb52f70f-4a80-48af-d20a-bdc4691eb65c"
      },
      "source": [
        "5/9"
      ],
      "execution_count": null,
      "outputs": [
        {
          "output_type": "execute_result",
          "data": {
            "text/plain": [
              "0.5555555555555556"
            ]
          },
          "metadata": {
            "tags": []
          },
          "execution_count": 47
        }
      ]
    },
    {
      "cell_type": "code",
      "metadata": {
        "id": "x6VyhOE6is9w",
        "colab_type": "code",
        "colab": {}
      },
      "source": [
        "def fahrenheit(T):\n",
        "    return ((float(9)/5)*T + 32)\n",
        "def celsius(T):\n",
        "    return (float(5)/9)*(T-32)\n"
      ],
      "execution_count": null,
      "outputs": []
    },
    {
      "cell_type": "code",
      "metadata": {
        "id": "aKm4LKJZix4l",
        "colab_type": "code",
        "colab": {
          "base_uri": "https://localhost:8080/",
          "height": 35
        },
        "outputId": "e255d8f9-99b8-488d-9294-0b295632f33f"
      },
      "source": [
        "F_to_c = lambda F: print(\"{} Celcius\".format((F-32)*5/9))\n",
        "F_to_c(96.8)"
      ],
      "execution_count": null,
      "outputs": [
        {
          "output_type": "stream",
          "text": [
            "36.0 Celcius\n"
          ],
          "name": "stdout"
        }
      ]
    },
    {
      "cell_type": "code",
      "metadata": {
        "id": "TUcO5WPIllpC",
        "colab_type": "code",
        "colab": {
          "base_uri": "https://localhost:8080/",
          "height": 35
        },
        "outputId": "6087389c-779c-4533-f47f-dff1accb76ed"
      },
      "source": [
        "c_to_F = lambda C: print(\"{} Farenhit\".format((C*9/5)+32))\n",
        "c_to_F(36)"
      ],
      "execution_count": null,
      "outputs": [
        {
          "output_type": "stream",
          "text": [
            "96.8 Farenhit\n"
          ],
          "name": "stdout"
        }
      ]
    },
    {
      "cell_type": "code",
      "metadata": {
        "id": "YF9y8iuPrFwg",
        "colab_type": "code",
        "colab": {
          "base_uri": "https://localhost:8080/",
          "height": 35
        },
        "outputId": "199552cd-4895-4be7-cf33-e9bafb692786"
      },
      "source": [
        "def fahrenheit(T):\n",
        "    return ((float(9)/5)*T + 32)\n",
        "def celsius(T):\n",
        "    return (float(5)/9)*(T-32)\n",
        "temp = (36.5, 37, 37.5,39)\n",
        "\n",
        "F=map(fahrenheit, temp)\n",
        "C = map(celsius, F)\n",
        "F    #OUTPUT <map at 0x7f19e74a26d8>\n",
        "map(lambda x: x.fahrenheit,lst)"
      ],
      "execution_count": null,
      "outputs": [
        {
          "output_type": "execute_result",
          "data": {
            "text/plain": [
              "<map at 0x7f19e74a8898>"
            ]
          },
          "metadata": {
            "tags": []
          },
          "execution_count": 69
        }
      ]
    },
    {
      "cell_type": "code",
      "metadata": {
        "id": "IVwkfHBdt83R",
        "colab_type": "code",
        "colab": {
          "base_uri": "https://localhost:8080/",
          "height": 35
        },
        "outputId": "11e41cca-5bf1-4ba0-d485-14ae2d01b30c"
      },
      "source": [
        "def multiply2(x):\n",
        "  return x * 2\n",
        "    \n",
        "map(multiply2, [1, 2, 3, 4]) "
      ],
      "execution_count": null,
      "outputs": [
        {
          "output_type": "execute_result",
          "data": {
            "text/plain": [
              "<map at 0x7f19e74a0128>"
            ]
          },
          "metadata": {
            "tags": []
          },
          "execution_count": 70
        }
      ]
    },
    {
      "cell_type": "code",
      "metadata": {
        "id": "eGoWsr3FYw7A",
        "colab_type": "code",
        "colab": {
          "base_uri": "https://localhost:8080/",
          "height": 35
        },
        "outputId": "3dc5688e-9f6c-4072-b0d8-d8c912f183e4"
      },
      "source": [
        "c = lambda x:x*9\n",
        "c(9)"
      ],
      "execution_count": null,
      "outputs": [
        {
          "output_type": "execute_result",
          "data": {
            "text/plain": [
              "81"
            ]
          },
          "metadata": {
            "tags": []
          },
          "execution_count": 1
        }
      ]
    },
    {
      "cell_type": "markdown",
      "metadata": {
        "id": "_6HUjLR2mReu",
        "colab_type": "text"
      },
      "source": [
        "##Function to sort values"
      ]
    },
    {
      "cell_type": "code",
      "metadata": {
        "id": "ClRpi934ieE4",
        "colab_type": "code",
        "colab": {}
      },
      "source": [
        "#sorting tuples\n",
        "\n",
        "subject_marks = [('English', 88), ('Science', 90), ('Maths', 97), ('Soc', 82)]\n",
        "print(\"Original list of tuples:\")\n",
        "print(subject_marks)\n",
        "def mark_order(tupl):\n",
        "  t=tupl.sort(key = lambda x: x[1])\n",
        "  print(\"\\nSorting the List of Tuples:\")\n",
        "  print(t)\n",
        "\n",
        "mark_order(subject_marks)"
      ],
      "execution_count": null,
      "outputs": []
    },
    {
      "cell_type": "code",
      "metadata": {
        "id": "gCSlojDjhAiv",
        "colab_type": "code",
        "colab": {
          "base_uri": "https://localhost:8080/",
          "height": 72
        },
        "outputId": "cec6d0a2-2d1a-408b-ab18-cabe7bb45bb5"
      },
      "source": [
        "#sorting dictionries\n",
        "\n",
        "models = [{'make':'Nokia', 'model':216, 'color':'Black'}, {'make':'Mi Max', 'model':'2', 'color':'Glod'}, {'make':'Samsung', 'model': 7, 'color':'Blue'}]\n",
        "print(\"Original list of dictionaries :\")\n",
        "print(models)\n",
        "def dict_sort(dic):\n",
        " dic.sort(key= lambda x: x[\"color\"])\n",
        " sorted_models = print(\"\\nSorting teh List of dictionaries :\")\n",
        " print(sorted_models)"
      ],
      "execution_count": null,
      "outputs": [
        {
          "output_type": "stream",
          "text": [
            "Original list of dictionaries :\n",
            "[{'make': 'Nokia', 'model': 216, 'color': 'Black'}, {'make': 'Mi Max', 'model': '2', 'color': 'Glod'}, {'make': 'Samsung', 'model': 7, 'color': 'Blue'}]\n"
          ],
          "name": "stdout"
        }
      ]
    },
    {
      "cell_type": "code",
      "metadata": {
        "id": "2KMkjg0Vk4_f",
        "colab_type": "code",
        "colab": {}
      },
      "source": [
        "# sorting using lambda\n",
        "\n",
        "models = [{'make':'Nokia', 'model':216, 'color':'Black'}, {'make':'Mi Max', 'model':'2', 'color':'Glod'}, {'make':'Samsung', 'model': 7, 'color':'Blue'}]\n",
        "print(\"Original list of dictionaries :\")\n",
        "print(models)\n",
        "def dict_sort(dic):\n",
        " sorted_models = dic.sort(lambda : x[\"color\"])\n",
        " print(\"\\nSorting teh List of dictionaries :\")\n",
        " print(sorted_models)\n",
        " \n",
        "dict_sort(models)"
      ],
      "execution_count": null,
      "outputs": []
    },
    {
      "cell_type": "code",
      "metadata": {
        "id": "6hbhCNi1mrPH",
        "colab_type": "code",
        "colab": {
          "base_uri": "https://localhost:8080/",
          "height": 104
        },
        "outputId": "c543d292-1cb3-4edc-9272-da68ae909d4d"
      },
      "source": [
        "subject_marks = [('English', 88), ('Science', 90), ('Maths', 97), ('Social sciences', 82)]\n",
        "print(\"Original list of tuples:\")\n",
        "print(subject_marks)\n",
        "subject_marks.sort(key = lambda x: x[1])\n",
        "print(\"\\nSorting the List of Tuples:\")\n",
        "print(subject_marks)"
      ],
      "execution_count": null,
      "outputs": [
        {
          "output_type": "stream",
          "text": [
            "Original list of tuples:\n",
            "[('English', 88), ('Science', 90), ('Maths', 97), ('Social sciences', 82)]\n",
            "\n",
            "Sorting the List of Tuples:\n",
            "[('Social sciences', 82), ('English', 88), ('Science', 90), ('Maths', 97)]\n"
          ],
          "name": "stdout"
        }
      ]
    }
  ]
}