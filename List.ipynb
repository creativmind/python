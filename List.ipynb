{
  "nbformat": 4,
  "nbformat_minor": 0,
  "metadata": {
    "colab": {
      "name": "List.ipynb",
      "provenance": [],
      "collapsed_sections": [
        "jGtvJnv5F87P",
        "PZxzviWgGbVr",
        "Og75qSxEOsh3"
      ],
      "authorship_tag": "ABX9TyPU9dr1n5r7vCuZMAfv7Bd3",
      "include_colab_link": true
    },
    "kernelspec": {
      "name": "python3",
      "display_name": "Python 3"
    }
  },
  "cells": [
    {
      "cell_type": "markdown",
      "metadata": {
        "id": "view-in-github",
        "colab_type": "text"
      },
      "source": [
        "<a href=\"https://colab.research.google.com/github/creativmind/python/blob/master/List.ipynb\" target=\"_parent\"><img src=\"https://colab.research.google.com/assets/colab-badge.svg\" alt=\"Open In Colab\"/></a>"
      ]
    },
    {
      "cell_type": "markdown",
      "metadata": {
        "id": "jGtvJnv5F87P",
        "colab_type": "text"
      },
      "source": [
        "## Tracingthe values\n",
        "List is mutable | \n",
        "\n",
        "Tracing the value by index ------list.index[number]\n",
        "\n"
      ]
    },
    {
      "cell_type": "code",
      "metadata": {
        "id": "LYhR1eHZBaHZ",
        "colab_type": "code",
        "colab": {
          "base_uri": "https://localhost:8080/",
          "height": 52
        },
        "outputId": "d147d7f6-fc1f-484d-9cae-2f829e4fe73c"
      },
      "source": [
        "names = ['Alice', 'Bob', 'Craig', 'Diana', 'Eric'] \n",
        "print(names[0]) #value by index\n",
        "print(names.index(\"Bob\")) #index by value"
      ],
      "execution_count": null,
      "outputs": [
        {
          "output_type": "stream",
          "text": [
            "Alice\n",
            "1\n"
          ],
          "name": "stdout"
        }
      ]
    },
    {
      "cell_type": "code",
      "metadata": {
        "id": "Ya95exi0Odf9",
        "colab_type": "code",
        "colab": {}
      },
      "source": [
        ""
      ],
      "execution_count": null,
      "outputs": []
    },
    {
      "cell_type": "markdown",
      "metadata": {
        "id": "wG0qK78W1F4w",
        "colab_type": "text"
      },
      "source": [
        "## Insertion"
      ]
    },
    {
      "cell_type": "code",
      "metadata": {
        "id": "kT7c-B5_CW-4",
        "colab_type": "code",
        "colab": {
          "base_uri": "https://localhost:8080/",
          "height": 35
        },
        "outputId": "590f3e6f-a7f4-4ae4-caab-affba981f3c3"
      },
      "source": [
        "#insertion\n",
        "names.insert(1,\"subbu\")  #L.insert(position,objet)\n",
        "names"
      ],
      "execution_count": null,
      "outputs": [
        {
          "output_type": "execute_result",
          "data": {
            "text/plain": [
              "['Alice', 'subbu', 'Bob', 'Craig', 'Diana', 'Eric']"
            ]
          },
          "metadata": {
            "tags": []
          },
          "execution_count": 24
        }
      ]
    },
    {
      "cell_type": "markdown",
      "metadata": {
        "id": "PZxzviWgGbVr",
        "colab_type": "text"
      },
      "source": [
        "## Removing the value\n",
        " pop - Takes Index and returns Value--------lst.pop(0)\n",
        "\n",
        "remove - Takes value, removes first occurrence, and returns nothin\n",
        "list_2.remove(100)\n",
        "\n",
        "delete - Takes index, removes value at that index, and returns nothing\n",
        "--->del lst[1:]"
      ]
    },
    {
      "cell_type": "code",
      "metadata": {
        "id": "PpOWkjkeGPaS",
        "colab_type": "code",
        "colab": {}
      },
      "source": [
        "new_list = names.pop() #default removes last object\n"
      ],
      "execution_count": null,
      "outputs": []
    },
    {
      "cell_type": "code",
      "metadata": {
        "id": "4yzN57YgHboi",
        "colab_type": "code",
        "colab": {
          "base_uri": "https://localhost:8080/",
          "height": 52
        },
        "outputId": "61971440-7e1b-4c88-835e-2a367dd1b176"
      },
      "source": [
        "print(new_list)\n"
      ],
      "execution_count": null,
      "outputs": [
        {
          "output_type": "stream",
          "text": [
            "Eric\n",
            "None\n"
          ],
          "name": "stdout"
        }
      ]
    },
    {
      "cell_type": "code",
      "metadata": {
        "id": "owr5cr7cOKYT",
        "colab_type": "code",
        "colab": {
          "base_uri": "https://localhost:8080/",
          "height": 35
        },
        "outputId": "5ae8e61a-c0b4-46ad-faa2-7b89631b2aff"
      },
      "source": [
        "lst = [3, 2, 2, 1]\n",
        "lst.pop(0)\n",
        "print(lst)"
      ],
      "execution_count": null,
      "outputs": [
        {
          "output_type": "stream",
          "text": [
            "[2, 2, 1]\n"
          ],
          "name": "stdout"
        }
      ]
    },
    {
      "cell_type": "markdown",
      "metadata": {
        "id": "L9jaxaCYKzIH",
        "colab_type": "text"
      },
      "source": [
        "REMOVE : removes teh first matching value, not a specific index   |takes object as argument\n"
      ]
    },
    {
      "cell_type": "code",
      "metadata": {
        "id": "LkrGEnZ5Jabb",
        "colab_type": "code",
        "colab": {
          "base_uri": "https://localhost:8080/",
          "height": 35
        },
        "outputId": "21c51613-ccb8-44a3-c10b-980193a64bd1"
      },
      "source": [
        "n = 10;\n",
        "list_2 =[]\n",
        "#output: [10,20,30,40,50,60,70,80,90,100]\n",
        "for i in range (n+1):\n",
        "  if (i==0):\n",
        "   continue\n",
        "  else:\n",
        "    list_2.append(i*10)\n",
        "print(list_2)"
      ],
      "execution_count": null,
      "outputs": [
        {
          "output_type": "stream",
          "text": [
            "[10, 20, 30, 40, 50, 60, 70, 80, 90, 100]\n"
          ],
          "name": "stdout"
        }
      ]
    },
    {
      "cell_type": "code",
      "metadata": {
        "id": "xEDkBSk7Ktti",
        "colab_type": "code",
        "colab": {
          "base_uri": "https://localhost:8080/",
          "height": 35
        },
        "outputId": "8a879185-2cb6-4b6c-f4a8-a66854d29f9a"
      },
      "source": [
        "list_2.insert(0,100)\n",
        "print(list_2)"
      ],
      "execution_count": null,
      "outputs": [
        {
          "output_type": "stream",
          "text": [
            "[100, 10, 20, 30, 40, 50, 60, 70, 80, 90, 100]\n"
          ],
          "name": "stdout"
        }
      ]
    },
    {
      "cell_type": "code",
      "metadata": {
        "id": "mN6UwywYMJob",
        "colab_type": "code",
        "colab": {
          "base_uri": "https://localhost:8080/",
          "height": 35
        },
        "outputId": "32cee456-2d4a-429d-c54d-601164406b3d"
      },
      "source": [
        "list_2.remove(100) #removes the first occurence (not by index)\n",
        "print(list_2)"
      ],
      "execution_count": null,
      "outputs": [
        {
          "output_type": "stream",
          "text": [
            "[10, 20, 30, 40, 50, 60, 70, 80, 90, 100]\n"
          ],
          "name": "stdout"
        }
      ]
    },
    {
      "cell_type": "markdown",
      "metadata": {
        "id": "krLtsqamMjzh",
        "colab_type": "text"
      },
      "source": [
        "Del : removes value by index | takes index as an argument"
      ]
    },
    {
      "cell_type": "code",
      "metadata": {
        "id": "Exk5jffyMw9Y",
        "colab_type": "code",
        "colab": {
          "base_uri": "https://localhost:8080/",
          "height": 35
        },
        "outputId": "ea1b2de8-b081-4695-86ec-6800fd2fe0ad"
      },
      "source": [
        "del list_2[9]\n",
        "print(list_2)"
      ],
      "execution_count": null,
      "outputs": [
        {
          "output_type": "stream",
          "text": [
            "[10, 20, 30, 40, 50, 60, 70, 80, 90]\n"
          ],
          "name": "stdout"
        }
      ]
    },
    {
      "cell_type": "code",
      "metadata": {
        "id": "Qm51oImFNm6w",
        "colab_type": "code",
        "colab": {
          "base_uri": "https://localhost:8080/",
          "height": 35
        },
        "outputId": "2e06c245-6d8b-4e00-eaed-384b1f2015a5"
      },
      "source": [
        "#type2:\n",
        "lst = [3, 2, 2, 1]\n",
        "del lst[1:]\n",
        "print(lst)"
      ],
      "execution_count": null,
      "outputs": [
        {
          "output_type": "stream",
          "text": [
            "[3]\n"
          ],
          "name": "stdout"
        }
      ]
    },
    {
      "cell_type": "markdown",
      "metadata": {
        "id": "Og75qSxEOsh3",
        "colab_type": "text"
      },
      "source": [
        "## Simple functions\n",
        "1. reverse | len | ::-1\n",
        "\n",
        "2. sorted(arg,key = funct) where arg can be any iterables\n",
        "\n",
        "3. listname.count(specificelement)---->returns the frequency of the word"
      ]
    },
    {
      "cell_type": "code",
      "metadata": {
        "id": "UWt2mzYvOrqf",
        "colab_type": "code",
        "colab": {
          "base_uri": "https://localhost:8080/",
          "height": 35
        },
        "outputId": "eb52bfc1-b4d1-4fcd-8a53-370a06d3bfae"
      },
      "source": [
        "list_3 = [10, 20, 30, 40, 50, 60, 70, 80, 90]\n",
        "#reversing\n",
        "list_3[::-1]"
      ],
      "execution_count": null,
      "outputs": [
        {
          "output_type": "execute_result",
          "data": {
            "text/plain": [
              "[90, 80, 70, 60, 50, 40, 30, 20, 10]"
            ]
          },
          "metadata": {
            "tags": []
          },
          "execution_count": 5
        }
      ]
    },
    {
      "cell_type": "code",
      "metadata": {
        "id": "ULAjU5nKpktL",
        "colab_type": "code",
        "colab": {
          "base_uri": "https://localhost:8080/",
          "height": 35
        },
        "outputId": "764fd9c5-1084-4346-9f11-6a71c7ff4035"
      },
      "source": [
        "list_3[::-1]"
      ],
      "execution_count": null,
      "outputs": [
        {
          "output_type": "execute_result",
          "data": {
            "text/plain": [
              "[90, 80, 70, 60, 50, 40, 30, 20, 10]"
            ]
          },
          "metadata": {
            "tags": []
          },
          "execution_count": 11
        }
      ]
    },
    {
      "cell_type": "code",
      "metadata": {
        "id": "6wtXwsmVPakv",
        "colab_type": "code",
        "colab": {
          "base_uri": "https://localhost:8080/",
          "height": 35
        },
        "outputId": "e6313338-7971-4d93-d3b3-fb440dc4cf61"
      },
      "source": [
        "list_3[::1]"
      ],
      "execution_count": null,
      "outputs": [
        {
          "output_type": "execute_result",
          "data": {
            "text/plain": [
              "[10, 20, 30, 40, 50, 60, 70, 80, 90]"
            ]
          },
          "metadata": {
            "tags": []
          },
          "execution_count": 63
        }
      ]
    },
    {
      "cell_type": "code",
      "metadata": {
        "id": "whOBQLeuQ04w",
        "colab_type": "code",
        "colab": {
          "base_uri": "https://localhost:8080/",
          "height": 35
        },
        "outputId": "274747e9-2f36-49ce-fc7f-d1e8a58d8a1b"
      },
      "source": [
        "len(list_3)"
      ],
      "execution_count": null,
      "outputs": [
        {
          "output_type": "execute_result",
          "data": {
            "text/plain": [
              "9"
            ]
          },
          "metadata": {
            "tags": []
          },
          "execution_count": 64
        }
      ]
    },
    {
      "cell_type": "code",
      "metadata": {
        "id": "AFTrRsjTW8s8",
        "colab_type": "code",
        "colab": {
          "base_uri": "https://localhost:8080/",
          "height": 35
        },
        "outputId": "94cbc33d-184b-4724-d480-59975fb9b2b8"
      },
      "source": [
        "min(list_3)\n"
      ],
      "execution_count": null,
      "outputs": [
        {
          "output_type": "execute_result",
          "data": {
            "text/plain": [
              "10"
            ]
          },
          "metadata": {
            "tags": []
          },
          "execution_count": 65
        }
      ]
    },
    {
      "cell_type": "code",
      "metadata": {
        "id": "JDIKN77bXFOz",
        "colab_type": "code",
        "colab": {
          "base_uri": "https://localhost:8080/",
          "height": 35
        },
        "outputId": "031369fb-1d0c-4999-f81b-1d67d03c43bc"
      },
      "source": [
        "lst = [1,10,23,12,17,90,6]\n",
        "c=sorted(lst)\n",
        "print(c)\n",
        "\n",
        "# sort(lst) or lst.sort()-----------doesnt works"
      ],
      "execution_count": null,
      "outputs": [
        {
          "output_type": "stream",
          "text": [
            "[1, 6, 10, 12, 17, 23, 90]\n"
          ],
          "name": "stdout"
        }
      ]
    },
    {
      "cell_type": "markdown",
      "metadata": {
        "id": "q_Gt4CeAqiz4",
        "colab_type": "text"
      },
      "source": [
        "##Creating user defined List Functions\n",
        "\n",
        "Note : Both list.sort() and sorted() have a key parameter to specify a function to be called on each list element prior to making comparisons.\n",
        "\n",
        "**Map**: Map function takes all elements and allows you to apply a function on it \n",
        "and tan passes it to the output which can have same as well as different values\n",
        "\n",
        "**Filter**: It is used to filter teh iterables as per teh conditions. \n",
        "Filter filters teh original iterable and passes teh items dat returns True for teh function provided to filter. \n",
        " "
      ]
    },
    {
      "cell_type": "markdown",
      "metadata": {
        "id": "6yAqetOAHHTq",
        "colab_type": "text"
      },
      "source": [
        "**MAP**"
      ]
    },
    {
      "cell_type": "code",
      "metadata": {
        "id": "2TiVGaEMqLNJ",
        "colab_type": "code",
        "colab": {
          "base_uri": "https://localhost:8080/",
          "height": 69
        },
        "outputId": "4ab06ef5-6772-45b5-b267-3c8d128341e7"
      },
      "source": [
        "# Using Map in list -> variable = map(func,arg)\n",
        "#\n",
        "def sq_root(x):\n",
        "    return x**2\n",
        "\n",
        "L = [1, 2, 3, 4, 5, 6]\n",
        "mod_list = map(sq_root, L)        # calling a function\n",
        "\n",
        "print(mod_list) #<map object at 0x7f01fb2f7128> BYTE CODE OF LAMBDA\n",
        "print(list(mod_list))\n",
        "#--------------------------------------------------------------------\n",
        "even = lambda x: x%2 == 0\n",
        "evl = list(map(even, range(11)))\n",
        "print (evl)"
      ],
      "execution_count": null,
      "outputs": [
        {
          "output_type": "stream",
          "text": [
            "<map object at 0x7f6bf7046048>\n",
            "[1, 4, 9, 16, 25, 36]\n",
            "[True, False, True, False, True, False, True, False, True, False, True]\n"
          ],
          "name": "stdout"
        }
      ]
    },
    {
      "cell_type": "markdown",
      "metadata": {
        "id": "Sxzrkz2NHLzy",
        "colab_type": "text"
      },
      "source": [
        "**Filter**"
      ]
    },
    {
      "cell_type": "code",
      "metadata": {
        "id": "ZUIfwlRG7dxl",
        "colab_type": "code",
        "colab": {
          "base_uri": "https://localhost:8080/",
          "height": 35
        },
        "outputId": "977ac61c-579a-48d3-9ee4-2d478fe6a41c"
      },
      "source": [
        "#Filter \n",
        "\n",
        "even = lambda x: x%2 == 0\n",
        "list(filter(even, range(11)))"
      ],
      "execution_count": null,
      "outputs": [
        {
          "output_type": "execute_result",
          "data": {
            "text/plain": [
              "[0, 2, 4, 6, 8, 10]"
            ]
          },
          "metadata": {
            "tags": []
          },
          "execution_count": 42
        }
      ]
    },
    {
      "cell_type": "code",
      "metadata": {
        "id": "HctW4QrCHA7j",
        "colab_type": "code",
        "colab": {
          "base_uri": "https://localhost:8080/",
          "height": 35
        },
        "outputId": "b4d4beda-3fe8-4cc4-de8a-f5b937e68194"
      },
      "source": [
        "#trying to generate new values in filter\n",
        "even = lambda x: x**2\n",
        "list(filter(even, range(11)))\n",
        "\n",
        "#Map takes all objects in a list and allows you to apply a function to it \n",
        "#whereas Filter takes all objects in a list and runs dat through a function to create a new list with all objects dat return True in dat function. \n",
        "#Hence, knowing teh functionality and using it accordingly is important"
      ],
      "execution_count": null,
      "outputs": [
        {
          "output_type": "execute_result",
          "data": {
            "text/plain": [
              "[1, 2, 3, 4, 5, 6, 7, 8, 9, 10]"
            ]
          },
          "metadata": {
            "tags": []
          },
          "execution_count": 7
        }
      ]
    },
    {
      "cell_type": "markdown",
      "metadata": {
        "id": "QOzIV7OlHTl1",
        "colab_type": "text"
      },
      "source": [
        "**Sort operation**"
      ]
    },
    {
      "cell_type": "code",
      "metadata": {
        "id": "w8IO_4L_q6Gj",
        "colab_type": "code",
        "colab": {
          "base_uri": "https://localhost:8080/",
          "height": 35
        },
        "outputId": "55ce9def-b4b1-4889-d456-a61b434d3dce"
      },
      "source": [
        "# sorting the list\n",
        "                                    #type 1 using function \n",
        "def srt_lst(lst):\n",
        "  return sorted(lst)                 #function definition\n",
        "\n",
        "Lst = [12,278,1579,4392,15270,26380,12]\n",
        "srt_lst(Lst)                          #calling a function\n",
        "\n"
      ],
      "execution_count": null,
      "outputs": [
        {
          "output_type": "execute_result",
          "data": {
            "text/plain": [
              "[12, 12, 278, 1579, 4392, 15270, 26380]"
            ]
          },
          "metadata": {
            "tags": []
          },
          "execution_count": 16
        }
      ]
    },
    {
      "cell_type": "code",
      "metadata": {
        "id": "ue739G25rnPf",
        "colab_type": "code",
        "colab": {
          "base_uri": "https://localhost:8080/",
          "height": 52
        },
        "outputId": "8566a370-dd30-4638-bc9e-8ed1a6282306"
      },
      "source": [
        "                                      #typ2 using lambda\n",
        "srt_lmb = lambda x: sorted(x)\n",
        "\n",
        "slst = [\"Apple\",\"Pipe\",\"Bird\",\"GINGER\",\"De\",\"Zebra\"]\n",
        "print(srt_lmb(Lst))\n",
        "print(srt_lmb(slst))"
      ],
      "execution_count": null,
      "outputs": [
        {
          "output_type": "stream",
          "text": [
            "[12, 12, 278, 1579, 4392, 15270, 26380]\n",
            "['Apple', 'Bird', 'De', 'GINGER', 'Pipe', 'Zebra']\n"
          ],
          "name": "stdout"
        }
      ]
    },
    {
      "cell_type": "code",
      "metadata": {
        "id": "Z8swaEcbt7np",
        "colab_type": "code",
        "colab": {
          "base_uri": "https://localhost:8080/",
          "height": 35
        },
        "outputId": "ad01aa34-e0f5-42fa-c544-39b71f8835b2"
      },
      "source": [
        "#Both list.sort() and sorted() have a key parameter to specify a function to be called on each list element prior to making comparisons.\n",
        "c\n",
        "\n",
        "def id_srt(lst):\n",
        "  c = sorted(lst, key = lambda x: int(x[2:]))\n",
        "  return c\n",
        "\n",
        "print(id_srt(ids))"
      ],
      "execution_count": null,
      "outputs": [
        {
          "output_type": "stream",
          "text": [
            "['id1', 'id2', 'id3', 'id22', 'id30', 'id100']\n"
          ],
          "name": "stdout"
        }
      ]
    },
    {
      "cell_type": "code",
      "metadata": {
        "id": "KRH8jc46K8vx",
        "colab_type": "code",
        "colab": {
          "base_uri": "https://localhost:8080/",
          "height": 35
        },
        "outputId": "76dccab5-b316-439a-baac-6537a63916a4"
      },
      "source": [
        "slst = [\"Apple\",\"Pipe\",\"Bird\",\"GINGER\",\"De\",\"Zebra\"]\n",
        "def id_srt(lst):\n",
        "  c = list(map(lambda x: x[1],lst))  #Map takes all objects in a list and allows you to apply a function to it \n",
        "  return list(c)\n",
        "id_srt(slst)\n"
      ],
      "execution_count": null,
      "outputs": [
        {
          "output_type": "execute_result",
          "data": {
            "text/plain": [
              "['p', 'i', 'i', 'I', 'e', 'e']"
            ]
          },
          "metadata": {
            "tags": []
          },
          "execution_count": 18
        }
      ]
    },
    {
      "cell_type": "code",
      "metadata": {
        "id": "QUe_-t2-LnEm",
        "colab_type": "code",
        "colab": {
          "base_uri": "https://localhost:8080/",
          "height": 35
        },
        "outputId": "ccae5744-d186-4861-f0c3-6cb4dca3a250"
      },
      "source": [
        "slst = [\"Apple\",\"Pipe\",\"Bird\",\"GINGER\",\"De\",\"Zebra\"]\n",
        "def id_srt(lst):\n",
        "\n",
        "  c = list(map(lambda lst: lst[2:],lst))\n",
        "  return list(c)\n",
        "id_srt(slst)"
      ],
      "execution_count": null,
      "outputs": [
        {
          "output_type": "execute_result",
          "data": {
            "text/plain": [
              "['ple', 'pe', 'rd', 'NGER', '', 'bra']"
            ]
          },
          "metadata": {
            "tags": []
          },
          "execution_count": 24
        }
      ]
    },
    {
      "cell_type": "code",
      "metadata": {
        "id": "3d719Ph6Uk74",
        "colab_type": "code",
        "colab": {
          "base_uri": "https://localhost:8080/",
          "height": 139
        },
        "outputId": "aab64ae5-cb6a-4ec5-889d-4df118c3900d"
      },
      "source": [
        "slst = [\"Apple\",\"Pipe\",\"Bird\",\"GINGER\",\"De\",\"Zebra\"]\n",
        "def index_trace(lst):\n",
        " for ele in slst:\n",
        "   indx = slst.index(ele)\n",
        "   print(\"index of {} is {}\" .format(ele,indx))\n",
        "\n",
        "index_trace(slst)\n",
        "len(slst)"
      ],
      "execution_count": null,
      "outputs": [
        {
          "output_type": "stream",
          "text": [
            "index of Apple is 0\n",
            "index of Pipe is 1\n",
            "index of Bird is 2\n",
            "index of GINGER is 3\n",
            "index of De is 4\n",
            "index of Zebra is 5\n"
          ],
          "name": "stdout"
        },
        {
          "output_type": "execute_result",
          "data": {
            "text/plain": [
              "6"
            ]
          },
          "metadata": {
            "tags": []
          },
          "execution_count": 32
        }
      ]
    },
    {
      "cell_type": "markdown",
      "metadata": {
        "id": "OUyq_ndQcQ-R",
        "colab_type": "text"
      },
      "source": [
        "## printing values for specific indices"
      ]
    },
    {
      "cell_type": "code",
      "metadata": {
        "id": "vNRRjoGjVu-w",
        "colab_type": "code",
        "colab": {
          "base_uri": "https://localhost:8080/",
          "height": 104
        },
        "outputId": "ab0865e2-d53f-4682-9929-0544301df034"
      },
      "source": [
        "slst = [\"Apple\",\"Pipe\",\"Bird\",\"GINGER\",\"De\",\"Zebra\"]\n",
        "def index_trac(lst): #print elements from index =2\n",
        " for ele in slst:\n",
        "   if (slst.index(ele)>=2):\n",
        "    print(ele)\n",
        "index_trac(slst)\n",
        "len(slst)"
      ],
      "execution_count": null,
      "outputs": [
        {
          "output_type": "stream",
          "text": [
            "Bird\n",
            "GINGER\n",
            "De\n",
            "Zebra\n"
          ],
          "name": "stdout"
        },
        {
          "output_type": "execute_result",
          "data": {
            "text/plain": [
              "6"
            ]
          },
          "metadata": {
            "tags": []
          },
          "execution_count": 35
        }
      ]
    },
    {
      "cell_type": "code",
      "metadata": {
        "id": "E_sszX1PcXbn",
        "colab_type": "code",
        "colab": {
          "base_uri": "https://localhost:8080/",
          "height": 35
        },
        "outputId": "a0eed0f5-dc07-49d3-e667-90831ea434d5"
      },
      "source": [
        "# implementing same using lambda\n",
        "funn = list(filter(lambda x: slst.index(x)>=2,sslst))\n",
        "funn"
      ],
      "execution_count": null,
      "outputs": [
        {
          "output_type": "execute_result",
          "data": {
            "text/plain": [
              "['Bird', 'GINGER', 'De', 'Zebra']"
            ]
          },
          "metadata": {
            "tags": []
          },
          "execution_count": 54
        }
      ]
    },
    {
      "cell_type": "code",
      "metadata": {
        "id": "WNmjMpkuqtXi",
        "colab_type": "code",
        "colab": {
          "base_uri": "https://localhost:8080/",
          "height": 35
        },
        "outputId": "113806b8-34c1-48b5-9fe3-b6db54aba341"
      },
      "source": [
        "#lets try to trace indices first using lambda\n",
        "\n",
        "sslst = [\"Apple\",\"Pipe\",\"Bird\",\"GINGER\",\"De\",\"Zebra\"]\n",
        "fun = list(map(lambda x: slst.index(x),sslst))\n",
        "fun"
      ],
      "execution_count": null,
      "outputs": [
        {
          "output_type": "execute_result",
          "data": {
            "text/plain": [
              "[0, 1, 2, 3, 4, 5]"
            ]
          },
          "metadata": {
            "tags": []
          },
          "execution_count": 56
        }
      ]
    },
    {
      "cell_type": "markdown",
      "metadata": {
        "id": "iUr6WemVGgMV",
        "colab_type": "text"
      },
      "source": [
        "##Tracing the index positions of a specified value between certain indices"
      ]
    },
    {
      "cell_type": "code",
      "metadata": {
        "id": "3DHr5hzNDoFm",
        "colab_type": "code",
        "colab": {
          "base_uri": "https://localhost:8080/",
          "height": 104
        },
        "outputId": "fff9fdd0-b6af-445e-afee-3f7f670d9cf6"
      },
      "source": [
        "\n",
        "long_lst = [1,2,67,2,35,12,8,23,1839,1,0,35,1,2,2,1,1,1,123]\n",
        "len(long_lst) #19 hence index ranges from 0 to 18\n",
        "#Lets find indices of 2 between index 9 to 18\n",
        "lst2 =[]\n",
        "def fnd_btw_positn(lst,position,end,searchelement):\n",
        "  st = position\n",
        "  k = end\n",
        "  for idx in range(st,k):\n",
        "    if (lst[idx]==searchelement):\n",
        "      lst2.append(idx)\n",
        "      print(\"{}------->{}\".format(idx,searchelement))\n",
        "    else:\n",
        "      continue\n",
        "  return lst2            #make it oustide the forloop\n",
        "    \n",
        "      \n",
        "\n",
        "#=====================check===============================\n",
        "fnd_btw_positn(long_lst,9,17,1)\n",
        "\n"
      ],
      "execution_count": null,
      "outputs": [
        {
          "output_type": "stream",
          "text": [
            "9------->1\n",
            "12------->1\n",
            "15------->1\n",
            "16------->1\n"
          ],
          "name": "stdout"
        },
        {
          "output_type": "execute_result",
          "data": {
            "text/plain": [
              "[9, 12, 15, 16]"
            ]
          },
          "metadata": {
            "tags": []
          },
          "execution_count": 138
        }
      ]
    },
    {
      "cell_type": "code",
      "metadata": {
        "id": "cl_xJTDYGSL3",
        "colab_type": "code",
        "colab": {
          "base_uri": "https://localhost:8080/",
          "height": 35
        },
        "outputId": "147c1b6c-f16c-4646-d16f-eb965214a51e"
      },
      "source": [
        "lst2"
      ],
      "execution_count": null,
      "outputs": [
        {
          "output_type": "execute_result",
          "data": {
            "text/plain": [
              "[9]"
            ]
          },
          "metadata": {
            "tags": []
          },
          "execution_count": 135
        }
      ]
    },
    {
      "cell_type": "markdown",
      "metadata": {
        "id": "q2-DTLQ9rF3L",
        "colab_type": "text"
      },
      "source": [
        "##Tracing the indices for specified values"
      ]
    },
    {
      "cell_type": "code",
      "metadata": {
        "id": "THS8OFDueTZm",
        "colab_type": "code",
        "colab": {
          "base_uri": "https://localhost:8080/",
          "height": 35
        },
        "outputId": "31a29824-b232-4d71-967d-26fdb118f751"
      },
      "source": [
        "test_list = [1, 3, 4, 3, 6, 7] \n",
        "res_list = list(filter(lambda x: test_list[x] == 3, range(len(test_list))))  # here we are getting index values for 3 so o/p x = index\n",
        "res_list"
      ],
      "execution_count": null,
      "outputs": [
        {
          "output_type": "execute_result",
          "data": {
            "text/plain": [
              "[1, 3]"
            ]
          },
          "metadata": {
            "tags": []
          },
          "execution_count": 59
        }
      ]
    },
    {
      "cell_type": "markdown",
      "metadata": {
        "id": "ttqDrWP6FkjT",
        "colab_type": "text"
      },
      "source": [
        "##Finding longest word"
      ]
    },
    {
      "cell_type": "code",
      "metadata": {
        "id": "2pqcQTOu-jNd",
        "colab_type": "code",
        "colab": {
          "base_uri": "https://localhost:8080/",
          "height": 35
        },
        "outputId": "db12993e-dfcc-4875-9343-e06b999d8c0f"
      },
      "source": [
        "def find_longest_word(words_list):\n",
        "    word_len = []\n",
        "    for n in words_list:\n",
        "        word_len.append((len(n),n))\n",
        "    c=sorted(word_len)\n",
        "    return c[-1][1]\n",
        "\n",
        "print(find_longest_word([\"PHP\", \"Exercises\", \"Backend\"]))"
      ],
      "execution_count": null,
      "outputs": [
        {
          "output_type": "stream",
          "text": [
            "Exercises\n"
          ],
          "name": "stdout"
        }
      ]
    },
    {
      "cell_type": "code",
      "metadata": {
        "id": "L45eNfXWFtha",
        "colab_type": "code",
        "colab": {}
      },
      "source": [
        ""
      ],
      "execution_count": null,
      "outputs": []
    },
    {
      "cell_type": "markdown",
      "metadata": {
        "id": "keJaVE2OIMC7",
        "colab_type": "text"
      },
      "source": [
        "##Write a Python program to make characters lower case"
      ]
    },
    {
      "cell_type": "code",
      "metadata": {
        "id": "ZevlLqtrIOLF",
        "colab_type": "code",
        "colab": {
          "base_uri": "https://localhost:8080/",
          "height": 35
        },
        "outputId": "d362f4dd-f254-4396-dc5b-655ebf0e81af"
      },
      "source": [
        "strlst = [\"Apple\",\"Pipe\",\"Bird\",\"GINGER\",\"De\",\"Zebra\"]\n",
        "v = list(map(lambda x: x.lower(),strlst))\n",
        "v\n"
      ],
      "execution_count": null,
      "outputs": [
        {
          "output_type": "execute_result",
          "data": {
            "text/plain": [
              "['apple', 'pipe', 'bird', 'ginger', 'de', 'zebra']"
            ]
          },
          "metadata": {
            "tags": []
          },
          "execution_count": 1
        }
      ]
    },
    {
      "cell_type": "markdown",
      "metadata": {
        "id": "FknUAEL_0Rw8",
        "colab_type": "text"
      },
      "source": [
        "##Sorting from specified position\n",
        "Input  :  test_list = [7, 3, 7, 6, 4, 9], K = 2\n",
        "\n",
        "Output : [7, 3, 4, 6, 7, 9]\n",
        "\n",
        "Explanation :  List is unsorted till 3 (1st index), From 2nd Index, its sorted. "
      ]
    },
    {
      "cell_type": "code",
      "metadata": {
        "id": "9oNhNb2q3P8S",
        "colab_type": "code",
        "colab": {
          "base_uri": "https://localhost:8080/",
          "height": 35
        },
        "outputId": "4cc7b5ae-ef61-4fa6-c815-10c82d39d79e"
      },
      "source": [
        "# using normal function\n",
        "test_list = [7, 3, 7, 6, 4, 9]\n",
        "l1=[]\n",
        "l2=[]\n",
        "                       #setting a specified position\n",
        "def sort_from_position(lst,k):\n",
        "  for ele in lst:\n",
        "    if (lst.index(ele)>=k):   #Tracking a specified position\n",
        "     l1.append(ele)\n",
        "\n",
        "    else:\n",
        "     l2.append(ele)\n",
        "  C = l2 + sorted(l1)\n",
        "  return C\n",
        "#==============check==================\n",
        "sort_from_position(test_list,2)"
      ],
      "execution_count": null,
      "outputs": [
        {
          "output_type": "execute_result",
          "data": {
            "text/plain": [
              "[7, 3, 7, 4, 6, 9]"
            ]
          },
          "metadata": {
            "tags": []
          },
          "execution_count": 103
        }
      ]
    },
    {
      "cell_type": "code",
      "metadata": {
        "id": "oiRePMk_6fEM",
        "colab_type": "code",
        "colab": {
          "base_uri": "https://localhost:8080/",
          "height": 121
        },
        "outputId": "d41d9a19-c485-4516-8c8b-e87d60675f51"
      },
      "source": [
        "# using enumerate function\n",
        "for idx,ele in enumerate(test_list):\n",
        "  print(\" {}--->{}\".format(idx,ele))"
      ],
      "execution_count": null,
      "outputs": [
        {
          "output_type": "stream",
          "text": [
            " 0--->7\n",
            " 1--->3\n",
            " 2--->7\n",
            " 3--->6\n",
            " 4--->4\n",
            " 5--->9\n"
          ],
          "name": "stdout"
        }
      ]
    },
    {
      "cell_type": "code",
      "metadata": {
        "id": "0racbOKz6e_F",
        "colab_type": "code",
        "colab": {
          "base_uri": "https://localhost:8080/",
          "height": 35
        },
        "outputId": "73e650c5-7bfa-4f7e-8f76-adaf2b18a18c"
      },
      "source": [
        "test_list = [7, 3, 7, 6, 4, 9]\n",
        "l1=[]\n",
        "l2=[]\n",
        "def sort_from_position(lst,k):\n",
        "  for idx,ele in enumerate(lst):\n",
        "    if idx>=k:\n",
        "     l1.append(ele)\n",
        "    else:\n",
        "     l2.append(ele)\n",
        "  result = l2 + sorted(l1)\n",
        "  return result\n",
        "sort_from_position(test_list,2)"
      ],
      "execution_count": null,
      "outputs": [
        {
          "output_type": "execute_result",
          "data": {
            "text/plain": [
              "[7, 3, 4, 6, 7, 9]"
            ]
          },
          "metadata": {
            "tags": []
          },
          "execution_count": 109
        }
      ]
    },
    {
      "cell_type": "markdown",
      "metadata": {
        "id": "Ur5mqZEiW2Xn",
        "colab_type": "text"
      },
      "source": [
        "##List comphrension\n",
        "\n",
        "List comprehensions offer a succinct way to create lists based on existing lists. When using list comprehensions, lists can be built by leveraging any iterable, including strings and tuples."
      ]
    },
    {
      "cell_type": "code",
      "metadata": {
        "id": "Pxk4StsGW1yX",
        "colab_type": "code",
        "colab": {
          "base_uri": "https://localhost:8080/",
          "height": 35
        },
        "outputId": "567e6d21-b4d2-49ec-b635-b6df9727ef8b"
      },
      "source": [
        "# Syntax:\n",
        "lst_cpmp = [result for element(,s) in \"iterable\" if condition]\n"
      ],
      "execution_count": null,
      "outputs": [
        {
          "output_type": "stream",
          "text": [
            "['i', 't', 'e', 'r', 'a', 'b', 'l', 'e']\n"
          ],
          "name": "stdout"
        }
      ]
    },
    {
      "cell_type": "code",
      "metadata": {
        "id": "T8svOoGhcHiJ",
        "colab_type": "code",
        "colab": {
          "base_uri": "https://localhost:8080/",
          "height": 35
        },
        "outputId": "1ed74c44-0680-4644-eff5-034dc2c7df35"
      },
      "source": [
        "#conditional statements\n",
        "emplst=[]\n",
        "lst = ['Alice','Bob', 'Craig','Diana','Eric'] \n",
        "[emplst.append(x) for x in lst if x!=\"Bob\"]\n"
      ],
      "execution_count": null,
      "outputs": [
        {
          "output_type": "execute_result",
          "data": {
            "text/plain": [
              "[None, None, None, None]"
            ]
          },
          "metadata": {
            "tags": []
          },
          "execution_count": 10
        }
      ]
    },
    {
      "cell_type": "code",
      "metadata": {
        "id": "20UCx_afd06h",
        "colab_type": "code",
        "colab": {
          "base_uri": "https://localhost:8080/",
          "height": 35
        },
        "outputId": "d5bf8a0c-2415-470e-fd6b-264811d3e487"
      },
      "source": [
        "emplst"
      ],
      "execution_count": null,
      "outputs": [
        {
          "output_type": "execute_result",
          "data": {
            "text/plain": [
              "['Alice', 'Craig', 'Diana', 'Eric']"
            ]
          },
          "metadata": {
            "tags": []
          },
          "execution_count": 11
        }
      ]
    },
    {
      "cell_type": "code",
      "metadata": {
        "id": "wLEJCJtIeHD0",
        "colab_type": "code",
        "colab": {
          "base_uri": "https://localhost:8080/",
          "height": 52
        },
        "outputId": "ef7660d9-9c9c-41fd-f395-7a9f4b912693"
      },
      "source": [
        "my_list = []\n",
        "a= [20, 40, 60]\n",
        "b= (2, 4, 6)\n",
        "\n",
        "for x in a:\n",
        "    for y in b:\n",
        "        my_list.append(x * y)\n",
        "\n",
        "print(my_list)\n",
        "\n",
        "#equivalent list comphrension code for above snippet\n",
        "new_lst = []\n",
        "[new_lst.append(x*y) for x in a for y in b]\n",
        "print(new_lst)"
      ],
      "execution_count": null,
      "outputs": [
        {
          "output_type": "stream",
          "text": [
            "[40, 80, 120, 80, 160, 240, 120, 240, 360]\n",
            "[40, 80, 120, 80, 160, 240, 120, 240, 360]\n"
          ],
          "name": "stdout"
        }
      ]
    },
    {
      "cell_type": "markdown",
      "metadata": {
        "id": "RkVdFnRll5K-",
        "colab_type": "text"
      },
      "source": [
        "##Printing odd and even elements -> implementing if else in list comphrension"
      ]
    },
    {
      "cell_type": "code",
      "metadata": {
        "id": "tSt8UgkjmRwT",
        "colab_type": "code",
        "colab": {
          "base_uri": "https://localhost:8080/",
          "height": 52
        },
        "outputId": "ca41cbee-1ab1-4852-baf3-34e2caa0a3e9"
      },
      "source": [
        "a=6%2 #-->returns remainder\n",
        "b=7/2 #->returns quotient\n",
        "print(a)\n",
        "print(b)\n"
      ],
      "execution_count": null,
      "outputs": [
        {
          "output_type": "stream",
          "text": [
            "0\n",
            "3.5\n"
          ],
          "name": "stdout"
        }
      ]
    },
    {
      "cell_type": "code",
      "metadata": {
        "id": "lViShc9ijFiA",
        "colab_type": "code",
        "colab": {
          "base_uri": "https://localhost:8080/",
          "height": 52
        },
        "outputId": "3ed76ee1-d4b5-4297-de92-c54f17d4bea8"
      },
      "source": [
        "od = []\n",
        "ev = []\n",
        "lst = [117.34,11,24,144,25,68,2,42,14,15]\n",
        "\n",
        "#[x+1 if x >= 120000 else x+5 for x in feet]\n",
        "#[result_if if statement else result_els for ele in list]\n",
        "\n",
        "#using list compherension\n",
        "[ev.append(ele) if ele%2==0 else od.append(ele) for ele in lst]\n",
        "print(\"Odd values {}\".format(od))\n",
        "print(\"Even values {}\".format(ev))"
      ],
      "execution_count": null,
      "outputs": [
        {
          "output_type": "stream",
          "text": [
            "Odd values [117.34, 11, 25, 15]\n",
            "Even values [24, 144, 68, 2, 42, 14]\n"
          ],
          "name": "stdout"
        }
      ]
    },
    {
      "cell_type": "markdown",
      "metadata": {
        "id": "LsruOUwxq1us",
        "colab_type": "text"
      },
      "source": [
        "## if else in lambda\n",
        "\n",
        "Functions created\n",
        "\n",
        "1.lambda_classifier(lst)--------lambda function\n",
        "\n",
        "2.def numb_classifier(lst):----list comphrension"
      ]
    },
    {
      "cell_type": "code",
      "metadata": {
        "id": "f1HS4zEBqsgu",
        "colab_type": "code",
        "colab": {
          "base_uri": "https://localhost:8080/",
          "height": 52
        },
        "outputId": "404605e9-9668-4e8c-85be-7709c56d818f"
      },
      "source": [
        "od=[]\n",
        "ev=[]\n",
        "def lambda_classifier(lst):\n",
        "  c= list(map(lambda x : ev.append(x) if (x%2==0) else od.append(x), lst))\n",
        "  print (\"odd {}\".format(od))\n",
        "  print (\"Even {}\".format(ev))\n",
        "  \n",
        "\n",
        "lambda_classifier([1,23,12,123,1,12.37,1,36,7,180,98,8.0,23,25.10,6])\n"
      ],
      "execution_count": null,
      "outputs": [
        {
          "output_type": "stream",
          "text": [
            "odd [1, 23, 123, 1, 12.37, 1, 7, 23, 25.1]\n",
            "Even [12, 36, 180, 98, 8.0, 6]\n"
          ],
          "name": "stdout"
        }
      ]
    },
    {
      "cell_type": "code",
      "metadata": {
        "id": "1jysx2Q5rFV6",
        "colab_type": "code",
        "colab": {
          "base_uri": "https://localhost:8080/",
          "height": 52
        },
        "outputId": "e1ae47e9-905b-4080-a0d1-556d3a2f16e4"
      },
      "source": [
        "#user defined function to find odd or even\n",
        "od=[]\n",
        "ev=[]\n",
        "def numb_classifier(lst):\n",
        "  [ev.append(ele) if ele%2==0 else od.append(ele) for ele in lst]\n",
        "  print (\"odd {}\".format(od))\n",
        "  print (\"Even {}\".format(ev))\n",
        "  \n",
        "numb_classifier([12,23,45,5,46,7,78,8,997,1.02,45])\n"
      ],
      "execution_count": null,
      "outputs": [
        {
          "output_type": "stream",
          "text": [
            "odd [23, 45, 5, 7, 997, 1.02, 45]\n",
            "Even [12, 46, 78, 8]\n"
          ],
          "name": "stdout"
        }
      ]
    },
    {
      "cell_type": "markdown",
      "metadata": {
        "id": "zom2HcVTmQ6o",
        "colab_type": "text"
      },
      "source": [
        "##Nested list\n"
      ]
    },
    {
      "cell_type": "markdown",
      "metadata": {
        "id": "tr0g-e5Mqpcy",
        "colab_type": "text"
      },
      "source": [
        "##Task1: Input : l_l = [[1,2,3],[4,5,6],[7,8]]\n",
        "\n",
        "Output: Flatten list [,2,3,4,56,7,8]----->Syntax = [ y for x in l_l for y in x]"
      ]
    },
    {
      "cell_type": "markdown",
      "metadata": {
        "id": "eizRWAXAse77",
        "colab_type": "text"
      },
      "source": [
        "![listpic.png](data:image/png;base64,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)"
      ]
    },
    {
      "cell_type": "code",
      "metadata": {
        "id": "LfEuahsPrbdC",
        "colab_type": "code",
        "colab": {
          "base_uri": "https://localhost:8080/",
          "height": 35
        },
        "outputId": "06782b4b-6cd3-4cee-c66c-92268c071ac0"
      },
      "source": [
        "l_l = [[1,2,3],[4,5,6],[7,8]]\n",
        "\n",
        "#step1\n",
        "[x for x in l_l]"
      ],
      "execution_count": null,
      "outputs": [
        {
          "output_type": "execute_result",
          "data": {
            "text/plain": [
              "[[1, 2, 3], [4, 5, 6], [7, 8]]"
            ]
          },
          "metadata": {
            "tags": []
          },
          "execution_count": 1
        }
      ]
    },
    {
      "cell_type": "code",
      "metadata": {
        "id": "yNqr7QlXsNn4",
        "colab_type": "code",
        "colab": {
          "base_uri": "https://localhost:8080/",
          "height": 35
        },
        "outputId": "1cc58313-64cf-42fd-d534-d9d3f5b4535c"
      },
      "source": [
        "#step2\n",
        "[ y for x in l_l for y in x]\n"
      ],
      "execution_count": null,
      "outputs": [
        {
          "output_type": "execute_result",
          "data": {
            "text/plain": [
              "[1, 2, 3, 4, 5, 6, 7, 8]"
            ]
          },
          "metadata": {
            "tags": []
          },
          "execution_count": 2
        }
      ]
    },
    {
      "cell_type": "markdown",
      "metadata": {
        "id": "KQoO9IbyqqW0",
        "colab_type": "text"
      },
      "source": [
        "##Task2 : list of list [ [ ] ]\n",
        "\n",
        "Expected output : \n",
        "\n",
        "list_of_list = [ [0, 1, 2, 3, 4], [0, 1, 2, 3, 4], [0, 1, 2, 3, 4], [0, 1, 2, 3, 4], [0, 1, 2, 3, 4] ]"
      ]
    },
    {
      "cell_type": "code",
      "metadata": {
        "id": "hUZckHuZmXme",
        "colab_type": "code",
        "colab": {
          "base_uri": "https://localhost:8080/",
          "height": 35
        },
        "outputId": "1de0a2c2-bc21-4b43-fac3-fd9e02c1094b"
      },
      "source": [
        "#Step 1\n",
        "matrix = [] \n",
        "  \n",
        "for col in range(5): \n",
        "      \n",
        "    # Append an empty sublist inside the list \n",
        "    matrix.append([])\n",
        "    #creating a list of list\n",
        "print(matrix) \n"
      ],
      "execution_count": null,
      "outputs": [
        {
          "output_type": "stream",
          "text": [
            "[[], [], [], [], []]\n"
          ],
          "name": "stdout"
        }
      ]
    },
    {
      "cell_type": "code",
      "metadata": {
        "id": "8tQmzoBlo8Hv",
        "colab_type": "code",
        "colab": {
          "base_uri": "https://localhost:8080/",
          "height": 35
        },
        "outputId": "6e91744e-1f4a-4188-9930-c3f77d442016"
      },
      "source": [
        "# step 2:\n",
        "matrix = [] \n",
        "  \n",
        "for col in range(5): \n",
        "\n",
        "   matrix.append([])\n",
        "   for val in range(5):\n",
        "      matrix[col].append(val)  #setting 0 to 4 values in each columns\n",
        "\n",
        "print(matrix) \n"
      ],
      "execution_count": null,
      "outputs": [
        {
          "output_type": "stream",
          "text": [
            "[[0, 1, 2, 3, 4], [0, 1, 2, 3, 4], [0, 1, 2, 3, 4], [0, 1, 2, 3, 4], [0, 1, 2, 3, 4]]\n"
          ],
          "name": "stdout"
        }
      ]
    },
    {
      "cell_type": "code",
      "metadata": {
        "id": "IM9F-WyTnYCN",
        "colab_type": "code",
        "colab": {
          "base_uri": "https://localhost:8080/",
          "height": 35
        },
        "outputId": "107574f2-f2e6-432d-9358-b802bc8bcfd2"
      },
      "source": [
        ""
      ],
      "execution_count": null,
      "outputs": [
        {
          "output_type": "stream",
          "text": [
            "[[0, 1, 2, 3, 4], [0, 1, 2, 3, 4], [0, 1, 2, 3, 4], [0, 1, 2, 3, 4], [0, 1, 2, 3, 4]]\n"
          ],
          "name": "stdout"
        }
      ]
    },
    {
      "cell_type": "markdown",
      "metadata": {
        "id": "XrQHsfBIvmDN",
        "colab_type": "text"
      },
      "source": [
        "##Task 3: matrix = [[1,2,3],[4,5,6],[7,8,9]]\n",
        "\n",
        "o/p = [[1, 4, 7], [2, 5, 8], [3, 6, 9]]\n",
        "\n"
      ]
    },
    {
      "cell_type": "markdown",
      "metadata": {
        "id": "eUU4f-IA_D9p",
        "colab_type": "text"
      },
      "source": [
        "![nestled list.png](data:image/png;base64,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)"
      ]
    },
    {
      "cell_type": "code",
      "metadata": {
        "id": "4aHRFhlp27iP",
        "colab_type": "code",
        "colab": {
          "base_uri": "https://localhost:8080/",
          "height": 35
        },
        "outputId": "55cc18b5-40bd-447d-8469-82729dff9be0"
      },
      "source": [
        "#step 1\n",
        "[i for i in range(3)]\n"
      ],
      "execution_count": null,
      "outputs": [
        {
          "output_type": "execute_result",
          "data": {
            "text/plain": [
              "[0, 1, 2]"
            ]
          },
          "metadata": {
            "tags": []
          },
          "execution_count": 121
        }
      ]
    },
    {
      "cell_type": "code",
      "metadata": {
        "id": "a4PrrEHV5y6i",
        "colab_type": "code",
        "colab": {
          "base_uri": "https://localhost:8080/",
          "height": 35
        },
        "outputId": "c49405c4-6b56-44c0-8b19-a14d4c74f525"
      },
      "source": [
        "#step 2\n",
        "[[] for i in range(3)]"
      ],
      "execution_count": null,
      "outputs": [
        {
          "output_type": "execute_result",
          "data": {
            "text/plain": [
              "[[], [], []]"
            ]
          },
          "metadata": {
            "tags": []
          },
          "execution_count": 123
        }
      ]
    },
    {
      "cell_type": "code",
      "metadata": {
        "id": "wRkSDBKu7Yki",
        "colab_type": "code",
        "colab": {
          "base_uri": "https://localhost:8080/",
          "height": 35
        },
        "outputId": "0506640a-3ade-47ea-f84d-3c655e2b2259"
      },
      "source": [
        "#step 3\n",
        "[ [i] for i in range(3)]"
      ],
      "execution_count": null,
      "outputs": [
        {
          "output_type": "execute_result",
          "data": {
            "text/plain": [
              "[[0], [1], [2]]"
            ]
          },
          "metadata": {
            "tags": []
          },
          "execution_count": 124
        }
      ]
    },
    {
      "cell_type": "code",
      "metadata": {
        "id": "UZ005RJ4A-o1",
        "colab_type": "code",
        "colab": {
          "base_uri": "https://localhost:8080/",
          "height": 35
        },
        "outputId": "65adf0d7-f0b6-41e1-8984-45b089ea81a2"
      },
      "source": [
        "[ele for ele in mat]"
      ],
      "execution_count": null,
      "outputs": [
        {
          "output_type": "execute_result",
          "data": {
            "text/plain": [
              "[[1, 2, 3], [4, 5, 6], [7, 8, 9]]"
            ]
          },
          "metadata": {
            "tags": []
          },
          "execution_count": 128
        }
      ]
    },
    {
      "cell_type": "code",
      "metadata": {
        "id": "TNC2oxRkv0Hk",
        "colab_type": "code",
        "colab": {
          "base_uri": "https://localhost:8080/",
          "height": 35
        },
        "outputId": "8003b50e-3a78-49f2-a971-ff3cd7a210d1"
      },
      "source": [
        "mat = [[1,2,3],[4,5,6],[7,8,9]]\n",
        "[[lists[i] for lists in mat] for i in range(len(mat))]\n",
        "\n",
        "#[[return_nestedlist[i] for list in mat] for i in range(3)]\n"
      ],
      "execution_count": null,
      "outputs": [
        {
          "output_type": "execute_result",
          "data": {
            "text/plain": [
              "[[1, 4, 7], [2, 5, 8], [3, 6, 9]]"
            ]
          },
          "metadata": {
            "tags": []
          },
          "execution_count": 131
        }
      ]
    },
    {
      "cell_type": "code",
      "metadata": {
        "id": "feqodIu3Ehpa",
        "colab_type": "code",
        "colab": {
          "base_uri": "https://localhost:8080/",
          "height": 35
        },
        "outputId": "8a444cfc-d873-4e72-893c-9491acba1f3c"
      },
      "source": [
        "mat"
      ],
      "execution_count": null,
      "outputs": [
        {
          "output_type": "execute_result",
          "data": {
            "text/plain": [
              "[[1, 2, 3], [4, 5, 6], [7, 8, 9]]"
            ]
          },
          "metadata": {
            "tags": []
          },
          "execution_count": 141
        }
      ]
    },
    {
      "cell_type": "code",
      "metadata": {
        "id": "AQXYoaj-7jJe",
        "colab_type": "code",
        "colab": {
          "base_uri": "https://localhost:8080/",
          "height": 70
        },
        "outputId": "fac34231-9943-4684-f4f4-1b2229be3741"
      },
      "source": [
        "#step 4 ---> repeating same process for 3 times but this is not necessary here\n",
        "\n",
        "[ [ele for ele in mat] for i in range(3)]"
      ],
      "execution_count": null,
      "outputs": [
        {
          "output_type": "execute_result",
          "data": {
            "text/plain": [
              "[[[1, 2, 3], [4, 5, 6], [7, 8, 9]],\n",
              " [[1, 2, 3], [4, 5, 6], [7, 8, 9]],\n",
              " [[1, 2, 3], [4, 5, 6], [7, 8, 9]]]"
            ]
          },
          "metadata": {
            "tags": []
          },
          "execution_count": 143
        }
      ]
    }
  ]
}