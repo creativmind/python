{
  "nbformat": 4,
  "nbformat_minor": 0,
  "metadata": {
    "colab": {
      "name": "Class.ipynb",
      "provenance": [],
      "authorship_tag": "ABX9TyOGB6P3XJaDcbIYGhvaaSHi",
      "include_colab_link": true
    },
    "kernelspec": {
      "name": "python3",
      "display_name": "Python 3"
    }
  },
  "cells": [
    {
      "cell_type": "markdown",
      "metadata": {
        "id": "view-in-github",
        "colab_type": "text"
      },
      "source": [
        "<a href=\"https://colab.research.google.com/github/creativmind/python/blob/master/Class.ipynb\" target=\"_parent\"><img src=\"https://colab.research.google.com/assets/colab-badge.svg\" alt=\"Open In Colab\"/></a>"
      ]
    },
    {
      "cell_type": "markdown",
      "metadata": {
        "id": "H_FOEnCqdcR2",
        "colab_type": "text"
      },
      "source": [
        "## Class\n",
        "\n",
        "1. A class is a blue print for an object. It is a category that usually contains various methods to implement a function,\n",
        "\n",
        "All classes have a function called __init__(), which is always executed when the class is being initiated.\n",
        "\n",
        "2. Use the __init__() function to assign values to object properties, or other operations that are necessary to do when the object is being created\n",
        "\n",
        "3. self parameter is a reference to the current instance of the class, and is used to access variables dat belong to the class.It can be given any name **but it should be the first parameter of any function**"
      ]
    },
    {
      "cell_type": "code",
      "metadata": {
        "id": "v6O8pBM4dHei",
        "colab_type": "code",
        "colab": {
          "base_uri": "https://localhost:8080/",
          "height": 52
        },
        "outputId": "ba7008b9-41ae-4de2-c061-c74430d13f54"
      },
      "source": [
        "class Equation:\n",
        "\n",
        " def __init__(self,a,b,r):\n",
        "   self.a = a\n",
        "   self.b = b\n",
        "   self.r = r\n",
        "\n",
        " def Area(self):\n",
        "     area= 3.14*self.r*self.r\n",
        "     print(\"area of a circle = {}\".format(area))\n",
        "\n",
        " def Perimeter(self):\n",
        "   per = 2*3.14*self.r\n",
        "   print(\"Perimeter of a circle = {}\".format(per))\n",
        "\n",
        "  #object creation\n",
        "obj = Equation(2,4,6)\n",
        "obj.Perimeter()\n",
        "obj.Area()\n",
        "    "
      ],
      "execution_count": null,
      "outputs": [
        {
          "output_type": "stream",
          "text": [
            "Perimeter of a circle = 37.68\n",
            "area of a circle = 113.03999999999999\n"
          ],
          "name": "stdout"
        }
      ]
    },
    {
      "cell_type": "markdown",
      "metadata": {
        "id": "of-PcFjj9yRb",
        "colab_type": "text"
      },
      "source": [
        "##update operation"
      ]
    },
    {
      "cell_type": "code",
      "metadata": {
        "id": "stxSgjp19aeJ",
        "colab_type": "code",
        "colab": {
          "base_uri": "https://localhost:8080/",
          "height": 35
        },
        "outputId": "3e0a6aee-50e9-4799-f9b5-e33a0db225b5"
      },
      "source": [
        "obj.r = 45  #update\n",
        "obj.Area()  "
      ],
      "execution_count": null,
      "outputs": [
        {
          "output_type": "stream",
          "text": [
            "area of a circle = 6358.500000000001\n"
          ],
          "name": "stdout"
        }
      ]
    },
    {
      "cell_type": "code",
      "metadata": {
        "id": "JLi4Gx9g94r7",
        "colab_type": "code",
        "colab": {}
      },
      "source": [
        " #del obj.r  3 to delete an attribute via obj\n",
        " #del obj    to delete obj"
      ],
      "execution_count": null,
      "outputs": []
    }
  ]
}