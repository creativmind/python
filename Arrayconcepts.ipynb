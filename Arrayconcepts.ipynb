{
  "nbformat": 4,
  "nbformat_minor": 0,
  "metadata": {
    "colab": {
      "name": "Arrayconcepts.ipynb",
      "provenance": [],
      "collapsed_sections": [],
      "authorship_tag": "ABX9TyPyU3mPkGrs00z+cnURkCXx",
      "include_colab_link": true
    },
    "kernelspec": {
      "name": "python3",
      "display_name": "Python 3"
    }
  },
  "cells": [
    {
      "cell_type": "markdown",
      "metadata": {
        "id": "view-in-github",
        "colab_type": "text"
      },
      "source": [
        "<a href=\"https://colab.research.google.com/github/creativmind/python/blob/master/Arrayconcepts.ipynb\" target=\"_parent\"><img src=\"https://colab.research.google.com/assets/colab-badge.svg\" alt=\"Open In Colab\"/></a>"
      ]
    },
    {
      "cell_type": "markdown",
      "metadata": {
        "id": "GytHkh1yeHf-",
        "colab_type": "text"
      },
      "source": [
        "**ARRAY CONSTRUCTION- 2D**"
      ]
    },
    {
      "cell_type": "code",
      "metadata": {
        "id": "cUptAyyuYrSY",
        "colab_type": "code",
        "colab": {}
      },
      "source": [
        "import numpy as np\n",
        "\n",
        "row = int(input(\"enter row size: \"))\n",
        "col = int(input(\"enter col size: \"))\n",
        "array = np.ndarray(shape = (row,col),dtype=int)\n",
        "print(\"Array size: \",array.size)\n",
        "print(\"Array shape: \",array.shape)\n",
        "print(\"Array dimension: \",array.ndim)\n",
        "\n",
        "print(\"enter %d elements for %dx%d matrix :\" %(array.size,row,col))\n",
        "for i in range(row):\n",
        " \n",
        "  for j in range(col):\n",
        "    array[i][j]=int(input())\n",
        "  print(\"%d row over\" %i)\n",
        "\n",
        "print(array)\n",
        "\n",
        "\n",
        "    "
      ],
      "execution_count": null,
      "outputs": []
    },
    {
      "cell_type": "markdown",
      "metadata": {
        "id": "McXCDbqChQEM",
        "colab_type": "text"
      },
      "source": [
        "**ARRAY CONSTRUCTION- MULTI DIMENSIONAL**"
      ]
    },
    {
      "cell_type": "code",
      "metadata": {
        "id": "rnyWgH-pfUEN",
        "colab_type": "code",
        "colab": {
          "base_uri": "https://localhost:8080/",
          "height": 433
        },
        "outputId": "5f23ed2a-0e3e-4edd-ba00-f89b91527e23"
      },
      "source": [
        "row = int(input(\"enter row size: \"))\n",
        "col = int(input(\"enter col size: \"))\n",
        "\n",
        "mdim = int(input(\"multi demension size: \"))\n",
        "array = np.ndarray(shape = (mdim,row,col),dtype=int)\n",
        "print(\"Array size: \",array.size)\n",
        "print(\"Array shape: \",array.shape)\n",
        "print(\"Array dimension: \",array.ndim)\n",
        "\n",
        "print(\"enter %d elements for %dx%dx%d matrix :\" %(array.size,mdim,row,col))\n",
        "for index in range(mdim):\n",
        "\n",
        " for i in range(row):\n",
        "  for j in range(col):\n",
        "    array[index][i][j]=int(input())\n",
        "  print(\"%d - index %d-row over\" %(index,i))\n",
        "\n",
        "print(array)"
      ],
      "execution_count": null,
      "outputs": [
        {
          "output_type": "stream",
          "text": [
            "enter row size: 2\n",
            "enter col size: 2\n",
            "multi demension size: 2\n",
            "Array size:  8\n",
            "Array shape:  (2, 2, 2)\n",
            "Array dimension:  3\n",
            "enter 8 elements for 2x2x2 matrix :\n",
            "1\n",
            "2\n",
            "0 - index 0-row over\n",
            "3\n",
            "4\n",
            "0 - index 1-row over\n",
            "5\n",
            "6\n",
            "1 - index 0-row over\n",
            "7\n",
            "8\n",
            "1 - index 1-row over\n",
            "[[[1 2]\n",
            "  [3 4]]\n",
            "\n",
            " [[5 6]\n",
            "  [7 8]]]\n"
          ],
          "name": "stdout"
        }
      ]
    },
    {
      "cell_type": "code",
      "metadata": {
        "id": "OsidpGZViXcG",
        "colab_type": "code",
        "colab": {
          "base_uri": "https://localhost:8080/",
          "height": 225
        },
        "outputId": "ba69c95b-6638-474f-cafe-05627d096bf4"
      },
      "source": [
        "row = int(input(\"enter row size: \"))\n",
        "col = int(input(\"enter col size: \"))\n",
        "\n",
        "mdim = int(input(\"multi demension size: \"))\n",
        "array = np.ndarray(shape = (mdim,row,col),dtype=int)\n",
        "print(\"Array size: \",array.size)\n",
        "print(\"Array shape: \",array.shape)\n",
        "print(\"Array dimension: \",array.ndim)\n",
        "\n",
        "val =1\n",
        "print(\"%d elements for %dx%dx%d matrix :\" %(array.size,mdim,row,col))\n",
        "for index in range(mdim):\n",
        "\n",
        " for i in range(row):\n",
        "  for j in range(col):\n",
        "    array[index][i][j]=val\n",
        "    val = val+1\n",
        "   \n",
        "  \n",
        "\n",
        "print(array)"
      ],
      "execution_count": null,
      "outputs": [
        {
          "output_type": "stream",
          "text": [
            "enter row size: 2\n",
            "enter col size: 3\n",
            "multi demension size: 2\n",
            "Array size:  12\n",
            "Array shape:  (2, 2, 3)\n",
            "Array dimension:  3\n",
            "12 elements for 2x2x3 matrix :\n",
            "[[[ 1  2  3]\n",
            "  [ 4  5  6]]\n",
            "\n",
            " [[ 7  8  9]\n",
            "  [10 11 12]]]\n"
          ],
          "name": "stdout"
        }
      ]
    },
    {
      "cell_type": "markdown",
      "metadata": {
        "id": "WPFrUQEnj5Ux",
        "colab_type": "text"
      },
      "source": [
        "**ARRAY RESHAPING**\n",
        "\n",
        "2X2X3 = 12 = 3X2X2 =2X2X3 = 1X6X2"
      ]
    },
    {
      "cell_type": "code",
      "metadata": {
        "id": "dB6sSU0pkH60",
        "colab_type": "code",
        "colab": {
          "base_uri": "https://localhost:8080/",
          "height": 173
        },
        "outputId": "45a706be-67fc-4b14-cc0b-fc1db244a52b"
      },
      "source": [
        "reshp1= array.reshape(3,2,2)\n",
        "\n",
        "reshp2= array.reshape(1,6,2)\n",
        "print(\"reshape1\")\n",
        "reshp1\n"
      ],
      "execution_count": null,
      "outputs": [
        {
          "output_type": "stream",
          "text": [
            "reshape1\n"
          ],
          "name": "stdout"
        },
        {
          "output_type": "execute_result",
          "data": {
            "text/plain": [
              "array([[[ 1,  2],\n",
              "        [ 3,  4]],\n",
              "\n",
              "       [[ 5,  6],\n",
              "        [ 7,  8]],\n",
              "\n",
              "       [[ 9, 10],\n",
              "        [11, 12]]])"
            ]
          },
          "metadata": {
            "tags": []
          },
          "execution_count": 37
        }
      ]
    },
    {
      "cell_type": "code",
      "metadata": {
        "id": "7DrmKVEFlBqo",
        "colab_type": "code",
        "colab": {
          "base_uri": "https://localhost:8080/",
          "height": 139
        },
        "outputId": "5433e92f-ece2-459b-dc2c-173f14134d82"
      },
      "source": [
        "print(\"reshape2\")\n",
        "reshp2"
      ],
      "execution_count": null,
      "outputs": [
        {
          "output_type": "stream",
          "text": [
            "reshape2\n"
          ],
          "name": "stdout"
        },
        {
          "output_type": "execute_result",
          "data": {
            "text/plain": [
              "array([[[ 1,  2],\n",
              "        [ 3,  4],\n",
              "        [ 5,  6],\n",
              "        [ 7,  8],\n",
              "        [ 9, 10],\n",
              "        [11, 12]]])"
            ]
          },
          "metadata": {
            "tags": []
          },
          "execution_count": 38
        }
      ]
    },
    {
      "cell_type": "markdown",
      "metadata": {
        "id": "iAEfI2iz_kf8",
        "colab_type": "text"
      },
      "source": [
        "**APPEND FUNCTION**"
      ]
    },
    {
      "cell_type": "code",
      "metadata": {
        "id": "jurKuTY-_tbx",
        "colab_type": "code",
        "colab": {
          "base_uri": "https://localhost:8080/",
          "height": 166
        },
        "outputId": "fea1b9fb-7867-4f54-94dd-9a71473e75be"
      },
      "source": [
        "a = np.array(np.arange(0,20)).reshape(4,5)"
      ],
      "execution_count": null,
      "outputs": [
        {
          "output_type": "error",
          "ename": "NameError",
          "evalue": "ignored",
          "traceback": [
            "\u001b[0;31m---------------------------------------------------------------------------\u001b[0m",
            "\u001b[0;31mNameError\u001b[0m                                 Traceback (most recent call last)",
            "\u001b[0;32m<ipython-input-1-4ade55b0eebe>\u001b[0m in \u001b[0;36m<module>\u001b[0;34m()\u001b[0m\n\u001b[0;32m----> 1\u001b[0;31m \u001b[0ma\u001b[0m \u001b[0;34m=\u001b[0m \u001b[0mnp\u001b[0m\u001b[0;34m.\u001b[0m\u001b[0marray\u001b[0m\u001b[0;34m(\u001b[0m\u001b[0mnp\u001b[0m\u001b[0;34m.\u001b[0m\u001b[0marange\u001b[0m\u001b[0;34m(\u001b[0m\u001b[0;36m0\u001b[0m\u001b[0;34m,\u001b[0m\u001b[0;36m20\u001b[0m\u001b[0;34m)\u001b[0m\u001b[0;34m)\u001b[0m\u001b[0;34m.\u001b[0m\u001b[0mreshape\u001b[0m\u001b[0;34m(\u001b[0m\u001b[0;36m4\u001b[0m\u001b[0;34m,\u001b[0m\u001b[0;36m5\u001b[0m\u001b[0;34m)\u001b[0m\u001b[0;34m\u001b[0m\u001b[0;34m\u001b[0m\u001b[0m\n\u001b[0m",
            "\u001b[0;31mNameError\u001b[0m: name 'np' is not defined"
          ]
        }
      ]
    },
    {
      "cell_type": "code",
      "metadata": {
        "id": "uPeLNsxlCfj-",
        "colab_type": "code",
        "colab": {
          "base_uri": "https://localhost:8080/",
          "height": 87
        },
        "outputId": "708d033e-b3a5-440b-e76d-661ef104584f"
      },
      "source": [
        "import numpy as np\n",
        "a = np.array(np.arange(0,20)).reshape(4,5)\n",
        "a"
      ],
      "execution_count": null,
      "outputs": [
        {
          "output_type": "execute_result",
          "data": {
            "text/plain": [
              "array([[ 0,  1,  2,  3,  4],\n",
              "       [ 5,  6,  7,  8,  9],\n",
              "       [10, 11, 12, 13, 14],\n",
              "       [15, 16, 17, 18, 19]])"
            ]
          },
          "metadata": {
            "tags": []
          },
          "execution_count": 2
        }
      ]
    },
    {
      "cell_type": "code",
      "metadata": {
        "id": "rhDyvBQlDLx0",
        "colab_type": "code",
        "colab": {
          "base_uri": "https://localhost:8080/",
          "height": 52
        },
        "outputId": "739db30d-40e6-42d7-83cb-e3f3d9c048a6"
      },
      "source": [
        "import numpy as np\n",
        "b = np.array(np.arange(0,10)).reshape(2,5)*2\n",
        "b"
      ],
      "execution_count": null,
      "outputs": [
        {
          "output_type": "execute_result",
          "data": {
            "text/plain": [
              "array([[ 0,  2,  4,  6,  8],\n",
              "       [10, 12, 14, 16, 18]])"
            ]
          },
          "metadata": {
            "tags": []
          },
          "execution_count": 21
        }
      ]
    },
    {
      "cell_type": "markdown",
      "metadata": {
        "id": "lF8djF2lDhyr",
        "colab_type": "text"
      },
      "source": [
        "**APPEND row wise**\n",
        "\n",
        "both array should have equal columns  only then rowise append or vertical stacking is possible"
      ]
    },
    {
      "cell_type": "code",
      "metadata": {
        "id": "5b5mcUn9D3FD",
        "colab_type": "code",
        "colab": {
          "base_uri": "https://localhost:8080/",
          "height": 121
        },
        "outputId": "97396184-45e3-4363-c7c7-8ff0433a0b6f"
      },
      "source": [
        "rowwiseappend = np.append(a,b,axis = 0)\n",
        "rowwiseappend"
      ],
      "execution_count": null,
      "outputs": [
        {
          "output_type": "execute_result",
          "data": {
            "text/plain": [
              "array([[ 0,  1,  2,  3,  4],\n",
              "       [ 5,  6,  7,  8,  9],\n",
              "       [10, 11, 12, 13, 14],\n",
              "       [15, 16, 17, 18, 19],\n",
              "       [ 0,  2,  4,  6,  8],\n",
              "       [10, 12, 14, 16, 18]])"
            ]
          },
          "metadata": {
            "tags": []
          },
          "execution_count": 11
        }
      ]
    },
    {
      "cell_type": "markdown",
      "metadata": {
        "id": "bbIU--5GErF8",
        "colab_type": "text"
      },
      "source": [
        "**VERTICAL STACKING**"
      ]
    },
    {
      "cell_type": "code",
      "metadata": {
        "id": "LbgKAPsxEviJ",
        "colab_type": "code",
        "colab": {
          "base_uri": "https://localhost:8080/",
          "height": 121
        },
        "outputId": "5000a547-fa9b-43e5-bc06-519a75a3cd3d"
      },
      "source": [
        "VS = np.vstack((a,b))\n",
        "VS"
      ],
      "execution_count": null,
      "outputs": [
        {
          "output_type": "execute_result",
          "data": {
            "text/plain": [
              "array([[ 0,  1,  2,  3,  4],\n",
              "       [ 5,  6,  7,  8,  9],\n",
              "       [10, 11, 12, 13, 14],\n",
              "       [15, 16, 17, 18, 19],\n",
              "       [ 0,  2,  4,  6,  8],\n",
              "       [10, 12, 14, 16, 18]])"
            ]
          },
          "metadata": {
            "tags": []
          },
          "execution_count": 16
        }
      ]
    },
    {
      "cell_type": "markdown",
      "metadata": {
        "id": "V2TrpfsSFbkV",
        "colab_type": "text"
      },
      "source": [
        ""
      ]
    },
    {
      "cell_type": "markdown",
      "metadata": {
        "colab_type": "text",
        "id": "FifUq18FFb4h"
      },
      "source": [
        "**HORIZONTAL STACKING**\n",
        "\n",
        "m x n = m  x n\n",
        "\n",
        "*both array should have equalrows only then colwise append or horizontal stacking is possible*"
      ]
    },
    {
      "cell_type": "code",
      "metadata": {
        "id": "JilzSeTAFq1K",
        "colab_type": "code",
        "colab": {
          "base_uri": "https://localhost:8080/",
          "height": 87
        },
        "outputId": "2dc3e954-0f39-4368-d9fc-9cd3023c689b"
      },
      "source": [
        "import numpy as np\n",
        "c = np.array(np.arange(0,20)).reshape(4,5)*2\n",
        "c"
      ],
      "execution_count": null,
      "outputs": [
        {
          "output_type": "execute_result",
          "data": {
            "text/plain": [
              "array([[ 0,  2,  4,  6,  8],\n",
              "       [10, 12, 14, 16, 18],\n",
              "       [20, 22, 24, 26, 28],\n",
              "       [30, 32, 34, 36, 38]])"
            ]
          },
          "metadata": {
            "tags": []
          },
          "execution_count": 30
        }
      ]
    },
    {
      "cell_type": "code",
      "metadata": {
        "id": "__InqU53F8Da",
        "colab_type": "code",
        "colab": {
          "base_uri": "https://localhost:8080/",
          "height": 87
        },
        "outputId": "af545c49-eeaf-464e-eaee-1dfe9970757f"
      },
      "source": [
        "a"
      ],
      "execution_count": null,
      "outputs": [
        {
          "output_type": "execute_result",
          "data": {
            "text/plain": [
              "array([[ 0,  1,  2,  3,  4],\n",
              "       [ 5,  6,  7,  8,  9],\n",
              "       [10, 11, 12, 13, 14],\n",
              "       [15, 16, 17, 18, 19]])"
            ]
          },
          "metadata": {
            "tags": []
          },
          "execution_count": 31
        }
      ]
    },
    {
      "cell_type": "code",
      "metadata": {
        "id": "wAIzX1l6GFKp",
        "colab_type": "code",
        "colab": {
          "base_uri": "https://localhost:8080/",
          "height": 87
        },
        "outputId": "b150a523-6d5c-461f-d184-40b65805762a"
      },
      "source": [
        "hs = np.hstack((a,c))\n",
        "hs"
      ],
      "execution_count": null,
      "outputs": [
        {
          "output_type": "execute_result",
          "data": {
            "text/plain": [
              "array([[ 0,  1,  2,  3,  4,  0,  2,  4,  6,  8],\n",
              "       [ 5,  6,  7,  8,  9, 10, 12, 14, 16, 18],\n",
              "       [10, 11, 12, 13, 14, 20, 22, 24, 26, 28],\n",
              "       [15, 16, 17, 18, 19, 30, 32, 34, 36, 38]])"
            ]
          },
          "metadata": {
            "tags": []
          },
          "execution_count": 32
        }
      ]
    },
    {
      "cell_type": "markdown",
      "metadata": {
        "id": "0vBbwgerHUlt",
        "colab_type": "text"
      },
      "source": [
        "**APPEND COL WISE**"
      ]
    },
    {
      "cell_type": "code",
      "metadata": {
        "id": "3TmXVh8vHUNe",
        "colab_type": "code",
        "colab": {
          "base_uri": "https://localhost:8080/",
          "height": 87
        },
        "outputId": "600d7176-7b8a-47e8-ed8e-6f9c96124da8"
      },
      "source": [
        "appendcolwise = np.append(a,c,axis=1)\n",
        "appendcolwise"
      ],
      "execution_count": null,
      "outputs": [
        {
          "output_type": "execute_result",
          "data": {
            "text/plain": [
              "array([[ 0,  1,  2,  3,  4,  0,  2,  4,  6,  8],\n",
              "       [ 5,  6,  7,  8,  9, 10, 12, 14, 16, 18],\n",
              "       [10, 11, 12, 13, 14, 20, 22, 24, 26, 28],\n",
              "       [15, 16, 17, 18, 19, 30, 32, 34, 36, 38]])"
            ]
          },
          "metadata": {
            "tags": []
          },
          "execution_count": 35
        }
      ]
    },
    {
      "cell_type": "markdown",
      "metadata": {
        "id": "PSmnBoZQJHNC",
        "colab_type": "text"
      },
      "source": [
        "**DELETE OPERATION**"
      ]
    },
    {
      "cell_type": "code",
      "metadata": {
        "id": "zCRThqyzJKOG",
        "colab_type": "code",
        "colab": {
          "base_uri": "https://localhost:8080/",
          "height": 69
        },
        "outputId": "46a1ca2c-12e7-404c-e553-88e673d5ca49"
      },
      "source": [
        "d = np.delete(hs,1,axis=0)\n",
        "d"
      ],
      "execution_count": null,
      "outputs": [
        {
          "output_type": "execute_result",
          "data": {
            "text/plain": [
              "array([[ 0,  1,  2,  3,  4,  0,  2,  4,  6,  8],\n",
              "       [10, 11, 12, 13, 14, 20, 22, 24, 26, 28],\n",
              "       [15, 16, 17, 18, 19, 30, 32, 34, 36, 38]])"
            ]
          },
          "metadata": {
            "tags": []
          },
          "execution_count": 38
        }
      ]
    },
    {
      "cell_type": "code",
      "metadata": {
        "id": "5JJEorNoJ_ZW",
        "colab_type": "code",
        "colab": {
          "base_uri": "https://localhost:8080/",
          "height": 87
        },
        "outputId": "5ba01da5-85c8-4bba-953f-155184e5bf03"
      },
      "source": [
        "d = np.delete(hs,1,axis=1,)\n",
        "d"
      ],
      "execution_count": null,
      "outputs": [
        {
          "output_type": "execute_result",
          "data": {
            "text/plain": [
              "array([[ 0,  2,  3,  4,  0,  2,  4,  6,  8],\n",
              "       [ 5,  7,  8,  9, 10, 12, 14, 16, 18],\n",
              "       [10, 12, 13, 14, 20, 22, 24, 26, 28],\n",
              "       [15, 17, 18, 19, 30, 32, 34, 36, 38]])"
            ]
          },
          "metadata": {
            "tags": []
          },
          "execution_count": 39
        }
      ]
    },
    {
      "cell_type": "code",
      "metadata": {
        "id": "cw00aKljLFVG",
        "colab_type": "code",
        "colab": {
          "base_uri": "https://localhost:8080/",
          "height": 35
        },
        "outputId": "3841d4ad-0034-4c71-c8c2-2444ab590c3d"
      },
      "source": [
        "d[-1,-1]\n",
        "\n",
        "\n"
      ],
      "execution_count": null,
      "outputs": [
        {
          "output_type": "execute_result",
          "data": {
            "text/plain": [
              "38"
            ]
          },
          "metadata": {
            "tags": []
          },
          "execution_count": 51
        }
      ]
    },
    {
      "cell_type": "code",
      "metadata": {
        "id": "LV2wtl1SMSeG",
        "colab_type": "code",
        "colab": {
          "base_uri": "https://localhost:8080/",
          "height": 87
        },
        "outputId": "1b2dfa1a-3639-4c2f-bf83-f9b641b275a6"
      },
      "source": [
        "greater_than_10 = np.where(d>10,d,0)\n",
        "greater_than_10"
      ],
      "execution_count": null,
      "outputs": [
        {
          "output_type": "execute_result",
          "data": {
            "text/plain": [
              "array([[ 0,  0,  0,  0,  0,  0,  0,  0,  0],\n",
              "       [ 0,  0,  0,  0,  0, 12, 14, 16, 18],\n",
              "       [ 0, 12, 13, 14, 20, 22, 24, 26, 28],\n",
              "       [15, 17, 18, 19, 30, 32, 34, 36, 38]])"
            ]
          },
          "metadata": {
            "tags": []
          },
          "execution_count": 62
        }
      ]
    },
    {
      "cell_type": "code",
      "metadata": {
        "id": "flDPaDF7PVuj",
        "colab_type": "code",
        "colab": {
          "base_uri": "https://localhost:8080/",
          "height": 52
        },
        "outputId": "c7ce766d-23b8-4566-da83-3a6297079c2e"
      },
      "source": [
        "d[greater_than_10]"
      ],
      "execution_count": null,
      "outputs": [
        {
          "output_type": "execute_result",
          "data": {
            "text/plain": [
              "array([12, 14, 16, 18, 12, 13, 14, 20, 22, 24, 26, 28, 15, 17, 18, 19, 30,\n",
              "       32, 34, 36, 38])"
            ]
          },
          "metadata": {
            "tags": []
          },
          "execution_count": 56
        }
      ]
    },
    {
      "cell_type": "markdown",
      "metadata": {
        "id": "zydE0_T9TOc7",
        "colab_type": "text"
      },
      "source": [
        "https://www.oreilly.com/library/view/python-for-data/9781449323592/ch04.html"
      ]
    },
    {
      "cell_type": "code",
      "metadata": {
        "id": "SI4nBX0CTPiR",
        "colab_type": "code",
        "colab": {
          "base_uri": "https://localhost:8080/",
          "height": 87
        },
        "outputId": "4631dec0-8787-4c38-8c31-c32f6d1624db"
      },
      "source": [
        "a"
      ],
      "execution_count": null,
      "outputs": [
        {
          "output_type": "execute_result",
          "data": {
            "text/plain": [
              "array([[ 0,  1,  2,  3,  4],\n",
              "       [ 5,  6,  7,  8,  9],\n",
              "       [10, 11, 12, 13, 14],\n",
              "       [15, 16, 17, 18, 19]])"
            ]
          },
          "metadata": {
            "tags": []
          },
          "execution_count": 3
        }
      ]
    },
    {
      "cell_type": "code",
      "metadata": {
        "id": "XsNWqRI6RgUz",
        "colab_type": "code",
        "colab": {}
      },
      "source": [
        "c=a[a>9]"
      ],
      "execution_count": null,
      "outputs": []
    },
    {
      "cell_type": "markdown",
      "metadata": {
        "id": "wu-OVRwXSIl6",
        "colab_type": "text"
      },
      "source": [
        "**INITIALISING AN EMPTY ARRAY**"
      ]
    },
    {
      "cell_type": "code",
      "metadata": {
        "id": "W6OwUW26SP_N",
        "colab_type": "code",
        "colab": {}
      },
      "source": [
        "empty = np.empty((3,3))"
      ],
      "execution_count": null,
      "outputs": []
    }
  ]
}