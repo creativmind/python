{
  "nbformat": 4,
  "nbformat_minor": 0,
  "metadata": {
    "colab": {
      "name": "Collections-Tuple.ipynb",
      "provenance": [],
      "authorship_tag": "ABX9TyNeVWwl+OuHMepiMx6/WQxF",
      "include_colab_link": true
    },
    "kernelspec": {
      "name": "python3",
      "display_name": "Python 3"
    }
  },
  "cells": [
    {
      "cell_type": "markdown",
      "metadata": {
        "id": "view-in-github",
        "colab_type": "text"
      },
      "source": [
        "<a href=\"https://colab.research.google.com/github/creativmind/python/blob/master/Collections_Tuple.ipynb\" target=\"_parent\"><img src=\"https://colab.research.google.com/assets/colab-badge.svg\" alt=\"Open In Colab\"/></a>"
      ]
    },
    {
      "cell_type": "markdown",
      "metadata": {
        "id": "Q65gaaggTdp2",
        "colab_type": "text"
      },
      "source": [
        "## Tuple\n",
        "\n",
        "A tuple is similar to a list except that it is ﬁxed-length and immutable. So the values in the tuple cannot be changed nor the values be added to or removed from the tuple. Tuples are commonly used for small collections of values that will not need to change, such as an IP address and port. Tuples are represented with parentheses instead of square brackets"
      ]
    },
    {
      "cell_type": "code",
      "metadata": {
        "id": "hQTLGoFDR4Hi",
        "colab_type": "code",
        "colab": {
          "base_uri": "https://localhost:8080/",
          "height": 35
        },
        "outputId": "a7bad843-4c55-4b1d-9131-3453e4db217d"
      },
      "source": [
        "#Rule book\n",
        "#A tuple with only one member must be deﬁned (note the comma) this way:\n",
        "c\n",
        "one_member_tuple = ('Only member',)\n",
        "print(one_member_tuple)\n"
      ],
      "execution_count": null,
      "outputs": [
        {
          "output_type": "stream",
          "text": [
            "('Only member',)\n"
          ],
          "name": "stdout"
        }
      ]
    },
    {
      "cell_type": "code",
      "metadata": {
        "id": "Dv2egJGJUKtN",
        "colab_type": "code",
        "colab": {
          "base_uri": "https://localhost:8080/",
          "height": 35
        },
        "outputId": "eebbc6c2-ecbc-42f6-92d3-80a9151dfaa7"
      },
      "source": [
        "#typ2\n",
        "one_member_tuple = tuple([456])\n",
        "print(one_member_tuple)"
      ],
      "execution_count": null,
      "outputs": [
        {
          "output_type": "stream",
          "text": [
            "(456,)\n"
          ],
          "name": "stdout"
        }
      ]
    },
    {
      "cell_type": "code",
      "metadata": {
        "id": "8tx2us0bUfjL",
        "colab_type": "code",
        "colab": {
          "base_uri": "https://localhost:8080/",
          "height": 35
        },
        "outputId": "0e542e64-1c36-4e3d-d3ad-5e494b29965e"
      },
      "source": [
        "tpl = (2,3),(4,5),(6,7)\n",
        "print(tpl[0]) #getting value by index\n"
      ],
      "execution_count": null,
      "outputs": [
        {
          "output_type": "stream",
          "text": [
            "(2, 3)\n"
          ],
          "name": "stdout"
        }
      ]
    },
    {
      "cell_type": "markdown",
      "metadata": {
        "id": "LDteO6xQVWGW",
        "colab_type": "text"
      },
      "source": [
        "##Tuple is immutable\n",
        "cant reassign object"
      ]
    },
    {
      "cell_type": "code",
      "metadata": {
        "id": "Z9XLjyfyVbgO",
        "colab_type": "code",
        "colab": {
          "base_uri": "https://localhost:8080/",
          "height": 35
        },
        "outputId": "61b9cfeb-cade-409a-83b0-8d22a8a1e7cb"
      },
      "source": [
        "tpl "
      ],
      "execution_count": null,
      "outputs": [
        {
          "output_type": "execute_result",
          "data": {
            "text/plain": [
              "((2, 3), (4, 5), (6, 7))"
            ]
          },
          "metadata": {
            "tags": []
          },
          "execution_count": 12
        }
      ]
    },
    {
      "cell_type": "code",
      "metadata": {
        "id": "SWsn_VJyVfMF",
        "colab_type": "code",
        "colab": {}
      },
      "source": [
        "tpl[1]  #(4, 5)\n",
        "tpl[1]=(56,89) #TypeError: 'tuple' object does not support item assignment\n",
        "del tpl[1] #TypeError: 'tuple' object does not support item assignment"
      ],
      "execution_count": null,
      "outputs": []
    },
    {
      "cell_type": "code",
      "metadata": {
        "id": "GFwVFm0bWNF8",
        "colab_type": "code",
        "colab": {}
      },
      "source": [
        "tup = ('physics', 'chemistry', 1997, 2000)\n",
        "del  #deletes entire tuple "
      ],
      "execution_count": null,
      "outputs": []
    }
  ]
}