{
  "nbformat": 4,
  "nbformat_minor": 0,
  "metadata": {
    "colab": {
      "name": "Dict.ipynb",
      "provenance": [],
      "collapsed_sections": [],
      "authorship_tag": "ABX9TyPBQp7ArhQxzKtArun3MB2f",
      "include_colab_link": true
    },
    "kernelspec": {
      "name": "python3",
      "display_name": "Python 3"
    }
  },
  "cells": [
    {
      "cell_type": "markdown",
      "metadata": {
        "id": "view-in-github",
        "colab_type": "text"
      },
      "source": [
        "<a href=\"https://colab.research.google.com/github/creativmind/python/blob/master/Dict.ipynb\" target=\"_parent\"><img src=\"https://colab.research.google.com/assets/colab-badge.svg\" alt=\"Open In Colab\"/></a>"
      ]
    },
    {
      "cell_type": "markdown",
      "metadata": {
        "id": "fFyX7rfed1Wm",
        "colab_type": "text"
      },
      "source": [
        "## Dictionary intro:\n",
        "\n",
        "A dictionary is a collection which is unordered, changeable and indexed"
      ]
    },
    {
      "cell_type": "markdown",
      "metadata": {
        "id": "U-1AiG69aln5",
        "colab_type": "text"
      },
      "source": [
        "Dict  : Mutable"
      ]
    },
    {
      "cell_type": "code",
      "metadata": {
        "id": "ULy4ChjIYZyL",
        "colab_type": "code",
        "colab": {
          "base_uri": "https://localhost:8080/",
          "height": 35
        },
        "outputId": "7c6c025b-cfe1-4576-b64c-c1dcb26ad697"
      },
      "source": [
        "dicts = {\"States\":\"Capitals\",\"India\":\"Delhi\",\"Karnataka\":\"Bengaluru\",\"Kerela\":\"Thiruvananthapura\",\"TN\":\"Chennai\"}\n",
        "print(dicts)"
      ],
      "execution_count": null,
      "outputs": [
        {
          "output_type": "stream",
          "text": [
            "{'States': 'Capitals', 'India': 'Delhi', 'Karnataka': 'Bengaluru', 'Kerela': 'Thiruvananthapura', 'TN': 'Chennai'}\n"
          ],
          "name": "stdout"
        }
      ]
    },
    {
      "cell_type": "code",
      "metadata": {
        "id": "cA5O9n3BZT62",
        "colab_type": "code",
        "colab": {
          "base_uri": "https://localhost:8080/",
          "height": 35
        },
        "outputId": "568e4ce5-7e50-4adc-81ed-72bcfe42d37c"
      },
      "source": [
        "dicts2 = {\"Capitals\":{\"Delhi\",\"Bengaluru\",\"Thiruvananthapuram\",\"chennai\"},\"States\":{\"India\",\"Karnataka\",\"Kerela\",\"TN\"}}\n",
        "print(dicts2)"
      ],
      "execution_count": null,
      "outputs": [
        {
          "output_type": "stream",
          "text": [
            "{'Capitals': {'chennai', 'Bengaluru', 'Thiruvananthapuram', 'Delhi'}, 'States': {'India', 'Karnataka', 'Kerela', 'TN'}}\n"
          ],
          "name": "stdout"
        }
      ]
    },
    {
      "cell_type": "code",
      "metadata": {
        "id": "aEWMEBBiaGSp",
        "colab_type": "code",
        "colab": {
          "base_uri": "https://localhost:8080/",
          "height": 35
        },
        "outputId": "7a01df9d-e1b6-4f0b-e9b5-01b740ba5df3"
      },
      "source": [
        "dicts3 = {\"Capitals\":[\"Delhi\",\"Bengaluru\",\"Thiruvananthapuram\",\"chennai\"],\"States\":[\"India\",\"Karnataka\",\"Kerela\",\"TN\"]}\n",
        "print(dicts3)"
      ],
      "execution_count": null,
      "outputs": [
        {
          "output_type": "stream",
          "text": [
            "{'Capitals': ['Delhi', 'Bengaluru', 'Thiruvananthapuram', 'chennai'], 'States': ['India', 'Karnataka', 'Kerela', 'TN']}\n"
          ],
          "name": "stdout"
        }
      ]
    },
    {
      "cell_type": "markdown",
      "metadata": {
        "id": "igeJhAfNaUl2",
        "colab_type": "text"
      },
      "source": [
        "##Tracing values\n",
        "\n",
        "getting value by index | can update | print the values of dict as string\n"
      ]
    },
    {
      "cell_type": "code",
      "metadata": {
        "id": "2HckJsGhaQBB",
        "colab_type": "code",
        "colab": {
          "base_uri": "https://localhost:8080/",
          "height": 35
        },
        "outputId": "02023db3-6145-4c55-f108-031eb78ee254"
      },
      "source": [
        "dicts3['Capitals']\n"
      ],
      "execution_count": null,
      "outputs": [
        {
          "output_type": "execute_result",
          "data": {
            "text/plain": [
              "['Delhi', 'Bengaluru', 'Thiruvananthapuram', 'chennai']"
            ]
          },
          "metadata": {
            "tags": []
          },
          "execution_count": 5
        }
      ]
    },
    {
      "cell_type": "code",
      "metadata": {
        "id": "_vAXtOXDaSoS",
        "colab_type": "code",
        "colab": {
          "base_uri": "https://localhost:8080/",
          "height": 35
        },
        "outputId": "f95a10f8-3db5-4a88-9a67-370062d6afbc"
      },
      "source": [
        "dicts3[\"Capitals\"][0] #getting value by index"
      ],
      "execution_count": null,
      "outputs": [
        {
          "output_type": "execute_result",
          "data": {
            "application/vnd.google.colaboratory.intrinsic+json": {
              "type": "string"
            },
            "text/plain": [
              "'Delhi'"
            ]
          },
          "metadata": {
            "tags": []
          },
          "execution_count": 7
        }
      ]
    },
    {
      "cell_type": "code",
      "metadata": {
        "id": "l5ozVCZMa1fF",
        "colab_type": "code",
        "colab": {
          "base_uri": "https://localhost:8080/",
          "height": 35
        },
        "outputId": "a300c595-1e1e-4ced-efd2-e347cce54528"
      },
      "source": [
        "dicts3[\"Capitals\"][0]=\"New delhi\"  #can update\n",
        "dicts3[\"Capitals\"][0]"
      ],
      "execution_count": null,
      "outputs": [
        {
          "output_type": "execute_result",
          "data": {
            "application/vnd.google.colaboratory.intrinsic+json": {
              "type": "string"
            },
            "text/plain": [
              "'New delhi'"
            ]
          },
          "metadata": {
            "tags": []
          },
          "execution_count": 9
        }
      ]
    },
    {
      "cell_type": "code",
      "metadata": {
        "id": "gjPO9m4Ia_mh",
        "colab_type": "code",
        "colab": {
          "base_uri": "https://localhost:8080/",
          "height": 52
        },
        "outputId": "327e7b00-1f1d-4539-eb14-be046355dd3e"
      },
      "source": [
        "dicts3"
      ],
      "execution_count": null,
      "outputs": [
        {
          "output_type": "execute_result",
          "data": {
            "text/plain": [
              "{'Capitals': ['New delhi', 'Bengaluru', 'Thiruvananthapuram', 'chennai'],\n",
              " 'States': ['India', 'Karnataka', 'Kerela', 'TN']}"
            ]
          },
          "metadata": {
            "tags": []
          },
          "execution_count": 10
        }
      ]
    },
    {
      "cell_type": "code",
      "metadata": {
        "id": "gua4us1RbIpo",
        "colab_type": "code",
        "colab": {
          "base_uri": "https://localhost:8080/",
          "height": 35
        },
        "outputId": "268dd508-fafd-4bcb-e348-a0d75d970f94"
      },
      "source": [
        "str(dicts3) #print the values of dict as string"
      ],
      "execution_count": null,
      "outputs": [
        {
          "output_type": "execute_result",
          "data": {
            "application/vnd.google.colaboratory.intrinsic+json": {
              "type": "string"
            },
            "text/plain": [
              "\"{'Capitals': ['New delhi', 'Bengaluru', 'Thiruvananthapuram', 'chennai'], 'States': ['India', 'Karnataka', 'Kerela', 'TN']}\""
            ]
          },
          "metadata": {
            "tags": []
          },
          "execution_count": 12
        }
      ]
    },
    {
      "cell_type": "markdown",
      "metadata": {
        "id": "m1ogXBh1cL_J",
        "colab_type": "text"
      },
      "source": [
        "##Looping through dictionary elements\n",
        "\n",
        "dicts.items()------------------>key and values\n"
      ]
    },
    {
      "cell_type": "code",
      "metadata": {
        "id": "jNfE9G82dZnh",
        "colab_type": "code",
        "colab": {
          "base_uri": "https://localhost:8080/",
          "height": 35
        },
        "outputId": "12e12fac-b0df-4e48-9c43-f92a2e2a5967"
      },
      "source": [
        "dicts = {\"States\":\"Capitals\",\"India\":\"Delhi\",\"Karnataka\":\"Bengaluru\",\"Kerela\":\"Thiruvananthapura\",\"TN\":\"Chennai\"}\n",
        "print(dicts)"
      ],
      "execution_count": null,
      "outputs": [
        {
          "output_type": "stream",
          "text": [
            "{'States': 'Capitals', 'India': 'Delhi', 'Karnataka': 'Bengaluru', 'Kerela': 'Thiruvananthapura', 'TN': 'Chennai'}\n"
          ],
          "name": "stdout"
        }
      ]
    },
    {
      "cell_type": "code",
      "metadata": {
        "id": "WrvjFe8PgtsQ",
        "colab_type": "code",
        "colab": {
          "base_uri": "https://localhost:8080/",
          "height": 104
        },
        "outputId": "2f0eeffa-806c-4fe1-ce9e-95a1dc6cdddf"
      },
      "source": [
        "for k, v in dicts.items():\n",
        "  print(\"key value is {} item value is {}\".format(k,v))"
      ],
      "execution_count": null,
      "outputs": [
        {
          "output_type": "stream",
          "text": [
            "key value is States item value is Capitals\n",
            "key value is India item value is Delhi\n",
            "key value is Karnataka item value is Bengaluru\n",
            "key value is Kerela item value is Thiruvananthapura\n",
            "key value is TN item value is Chennai\n"
          ],
          "name": "stdout"
        }
      ]
    },
    {
      "cell_type": "markdown",
      "metadata": {
        "id": "U9l-pSMpnosp",
        "colab_type": "text"
      },
      "source": [
        "##UPDATE OPERATION"
      ]
    },
    {
      "cell_type": "code",
      "metadata": {
        "id": "5WwhzEohynRh",
        "colab_type": "code",
        "colab": {
          "base_uri": "https://localhost:8080/",
          "height": 35
        },
        "outputId": "cfab9bef-3841-4b5d-b564-2a37ede9c42e"
      },
      "source": [
        "car = {\n",
        "  \"brand\": \"Ford\",\n",
        "  \"model\": \"Mustang\",\n",
        "  \"year\": 1964\n",
        "}\n",
        "\n",
        "car.update({\"color\": \"White\"}) #update \n",
        "\n",
        "print(car)"
      ],
      "execution_count": null,
      "outputs": [
        {
          "output_type": "stream",
          "text": [
            "{'brand': 'Ford', 'model': 'Mustang', 'year': 1964, 'color': 'White'}\n"
          ],
          "name": "stdout"
        }
      ]
    },
    {
      "cell_type": "code",
      "metadata": {
        "id": "0ZKZjfXWnrzP",
        "colab_type": "code",
        "colab": {
          "base_uri": "https://localhost:8080/",
          "height": 104
        },
        "outputId": "fd6feafd-f4c6-4c43-9bd9-c4769d05bd66"
      },
      "source": [
        "#checking for value\n",
        "if \"India\" in dicts:\n",
        "  dicts['India']=\"New delhi\"\n",
        "for k, v in dicts.items():\n",
        "  print(\"{} : {}\".format(k,v))"
      ],
      "execution_count": null,
      "outputs": [
        {
          "output_type": "stream",
          "text": [
            "States : Capitals\n",
            "India : New delhi\n",
            "Karnataka : Bengaluru\n",
            "Kerela : Thiruvananthapura\n",
            "TN : Chennai\n"
          ],
          "name": "stdout"
        }
      ]
    },
    {
      "cell_type": "markdown",
      "metadata": {
        "id": "hsAQto54opGL",
        "colab_type": "text"
      },
      "source": [
        "##INSERT OPERATION"
      ]
    },
    {
      "cell_type": "code",
      "metadata": {
        "id": "RdKNsBvoooQO",
        "colab_type": "code",
        "colab": {
          "base_uri": "https://localhost:8080/",
          "height": 121
        },
        "outputId": "2bb97edb-14ad-45bb-e843-3dc3b3db4968"
      },
      "source": [
        "dicts[\"United states\"]=\"Newyork\"  #adding a value\n",
        "for k, v in dicts.items():\n",
        "  print(\"{} : {}\".format(k,v))"
      ],
      "execution_count": null,
      "outputs": [
        {
          "output_type": "stream",
          "text": [
            "States : Capitals\n",
            "India : New delhi\n",
            "Karnataka : Bengaluru\n",
            "Kerela : Thiruvananthapura\n",
            "TN : Chennai\n",
            "United states : Newyork\n"
          ],
          "name": "stdout"
        }
      ]
    },
    {
      "cell_type": "markdown",
      "metadata": {
        "id": "zpZUbDuhqf-G",
        "colab_type": "text"
      },
      "source": [
        "##Deletion operation\n",
        "\n",
        "dicts.pop(key) ------- removes the specified key set\n",
        "\n",
        "dicts.popitem()---------removes the last added item\n",
        "\n",
        "del dicts[\"key\"] -------deletes specified key\n",
        "\n",
        "del dicts -----------------> deletes entire dict"
      ]
    },
    {
      "cell_type": "code",
      "metadata": {
        "id": "FeLHhMIQqfZm",
        "colab_type": "code",
        "colab": {}
      },
      "source": [
        "dicts[\"United Kingdom\"]=\"Britain\"\n"
      ],
      "execution_count": null,
      "outputs": []
    },
    {
      "cell_type": "code",
      "metadata": {
        "id": "qmvpx5G0rY5H",
        "colab_type": "code",
        "colab": {
          "base_uri": "https://localhost:8080/",
          "height": 121
        },
        "outputId": "61d24759-df99-4c08-94f8-73352a07cb24"
      },
      "source": [
        "dicts.pop(\"TN\")   #removes specified key value\n",
        "for k, v in dicts.items():\n",
        "  print(\"{} : {}\".format(k,v))"
      ],
      "execution_count": null,
      "outputs": [
        {
          "output_type": "stream",
          "text": [
            "States : Capitals\n",
            "India : New delhi\n",
            "Karnataka : Bengaluru\n",
            "Kerela : Thiruvananthapura\n",
            "United states : Newyork\n",
            "United Kingdom : Britain\n"
          ],
          "name": "stdout"
        }
      ]
    },
    {
      "cell_type": "code",
      "metadata": {
        "id": "pqPR-pJMsB7A",
        "colab_type": "code",
        "colab": {
          "base_uri": "https://localhost:8080/",
          "height": 104
        },
        "outputId": "373fb5ff-eb56-4eef-e556-bb3b9f5a7f15"
      },
      "source": [
        "dicts.popitem()  #removes last added item i.e Unitedkingdom\n",
        "for k, v in dicts.items():\n",
        "  print(\"{} : {}\".format(k,v))"
      ],
      "execution_count": null,
      "outputs": [
        {
          "output_type": "stream",
          "text": [
            "States : Capitals\n",
            "India : New delhi\n",
            "Karnataka : Bengaluru\n",
            "Kerela : Thiruvananthapura\n",
            "United states : Newyork\n"
          ],
          "name": "stdout"
        }
      ]
    },
    {
      "cell_type": "code",
      "metadata": {
        "id": "9iEyPJ2zst9G",
        "colab_type": "code",
        "colab": {}
      },
      "source": [
        "dicts.popitem(\"Kerela\") #TypeError: popitem() takes no arguments (1 given)\n"
      ],
      "execution_count": null,
      "outputs": []
    },
    {
      "cell_type": "markdown",
      "metadata": {
        "id": "84GjdcHQuMWI",
        "colab_type": "text"
      },
      "source": [
        "##Nested dict"
      ]
    },
    {
      "cell_type": "code",
      "metadata": {
        "id": "mwZQy-z1uPSY",
        "colab_type": "code",
        "colab": {
          "base_uri": "https://localhost:8080/",
          "height": 69
        },
        "outputId": "65542cb6-27b6-4055-b89c-f7d40c854a34"
      },
      "source": [
        "child1 = {\n",
        "  \"name\" : \"Emil\",\n",
        "  \"year\" : 2004\n",
        "}\n",
        "child2 = {\n",
        "  \"name\" : \"Tobias\",\n",
        "  \"year\" : 2007\n",
        "}\n",
        "child3 = {\n",
        "  \"name\" : \"Linus\",\n",
        "  \"year\" : 2011\n",
        "}\n",
        "\n",
        "myfamily = {\n",
        "  \"child1\" : child1,\n",
        "  \"child2\" : child2,\n",
        "  \"child3\" : child3\n",
        "}\n",
        "myfamily"
      ],
      "execution_count": null,
      "outputs": [
        {
          "output_type": "execute_result",
          "data": {
            "text/plain": [
              "{'child1': {'name': 'Emil', 'year': 2004},\n",
              " 'child2': {'name': 'Tobias', 'year': 2007},\n",
              " 'child3': {'name': 'Linus', 'year': 2011}}"
            ]
          },
          "metadata": {
            "tags": []
          },
          "execution_count": 19
        }
      ]
    },
    {
      "cell_type": "code",
      "metadata": {
        "id": "PtUMyN9LuXRO",
        "colab_type": "code",
        "colab": {
          "base_uri": "https://localhost:8080/",
          "height": 69
        },
        "outputId": "b9b6dbf3-2ce5-46db-b416-e82d30a76c86"
      },
      "source": [
        "#looping\n",
        "for k, v in myfamily.items():\n",
        "  print(\"{} : {}\".format(k,v))"
      ],
      "execution_count": null,
      "outputs": [
        {
          "output_type": "stream",
          "text": [
            "child1 : {'name': 'Emil', 'year': 2004}\n",
            "child2 : {'name': 'Tobias', 'year': 2007}\n",
            "child3 : {'name': 'Linus', 'year': 2011}\n"
          ],
          "name": "stdout"
        }
      ]
    },
    {
      "cell_type": "code",
      "metadata": {
        "id": "8Z_kJ_d2x3ao",
        "colab_type": "code",
        "colab": {
          "base_uri": "https://localhost:8080/",
          "height": 52
        },
        "outputId": "871a26eb-761f-4446-df3f-5b337e868918"
      },
      "source": [
        "dicts3"
      ],
      "execution_count": null,
      "outputs": [
        {
          "output_type": "execute_result",
          "data": {
            "text/plain": [
              "{'Capitals': ['Delhi', 'Bengaluru', 'Thiruvananthapuram', 'chennai'],\n",
              " 'States': ['India', 'Karnataka', 'Kerela', 'TN']}"
            ]
          },
          "metadata": {
            "tags": []
          },
          "execution_count": 22
        }
      ]
    },
    {
      "cell_type": "code",
      "metadata": {
        "id": "GAykNvTp7rKr",
        "colab_type": "code",
        "colab": {
          "base_uri": "https://localhost:8080/",
          "height": 35
        },
        "outputId": "0644195a-61ff-4d08-e896-50880bc4830a"
      },
      "source": [
        "len(dicts3)"
      ],
      "execution_count": null,
      "outputs": [
        {
          "output_type": "execute_result",
          "data": {
            "text/plain": [
              "2"
            ]
          },
          "metadata": {
            "tags": []
          },
          "execution_count": 25
        }
      ]
    }
  ]
}